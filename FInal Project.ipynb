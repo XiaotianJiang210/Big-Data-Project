{
 "cells": [
  {
   "cell_type": "markdown",
   "id": "f903dc41",
   "metadata": {},
   "source": [
    "# ECO225 Final Project"
   ]
  },
  {
   "cell_type": "markdown",
   "id": "c18239a1",
   "metadata": {},
   "source": [
    "## Title: What factors determine the housing prices?"
   ]
  },
  {
   "cell_type": "markdown",
   "id": "35d07b1d",
   "metadata": {},
   "source": [
    "## Abstract:"
   ]
  },
  {
   "cell_type": "markdown",
   "id": "d3e29143",
   "metadata": {},
   "source": [
    "The paper focuses on exploring the factors determine housing prices, and revealing a series of causations in the economics context. For accurate reasoning and analysis, summary statistics, map visualizations and multiple regression models are established. The paper identifies the differences in housing values by exploiting unique startups in California. The research shows housing features, income levels and economic factors influence housing prices, differences in the number of startups also have positive impacts on housing values."
   ]
  },
  {
   "cell_type": "markdown",
   "id": "e59f59ff",
   "metadata": {},
   "source": [
    "## Part One: Introduction"
   ]
  },
  {
   "cell_type": "markdown",
   "id": "602a1873",
   "metadata": {},
   "source": [
    "## Introduction:"
   ]
  },
  {
   "cell_type": "markdown",
   "id": "d2d25c19",
   "metadata": {},
   "source": [
    "The world-wide acceleration of development in economies boosts people’s living conditions better than ever, which urges urbanization and city extensions to a greater extent. Under the situation, housing prices is one of the main products of various major economic events.  People pay attention to the cost of sheltering as their lives’ qualities are determined by that (Van Doorn et al., 1970). And price represents the standard level and goal they must achieve if they have high expectations for the future. Houses are risky assets with volatile prices (Picker 2006). Policy makers and economists are cautious on adjusting and determining the housing wealth, since the magnitude of volatility of housing wealth brings debates about change in housing prices bring uncertainties for the economy. Any changes in the housing values lead to changes in consumers’ behaviors, and have further influences on households’ consumptions due to wealth effect.(Pettinger & Robinson, 2021). The long-run consequences will be related to mortgage rates and income levels. The paper will draw further importance about the housing values with deeper analysis about higher housing values guarantee more investment opportunities."
   ]
  },
  {
   "cell_type": "markdown",
   "id": "d22abdeb",
   "metadata": {},
   "source": [
    "The curiosity about how housing prices fluctuate as a result of changes in some economic factors, brings out this paper. There goes beyond no doubt the economic intuitions behind are obvious, investment rates ,income levels and characteristics play important role on determine the house values. However, economics analysis and findings should be rely on statistical and logical reasoning and economic facts. This paper enhance the idea and arguments with data analysis and visualization."
   ]
  },
  {
   "cell_type": "markdown",
   "id": "506c332b",
   "metadata": {},
   "source": [
    "The goal is to present the discoveries about how the housing prices are determined, which will throw light on the predictions about housing prices. With relating concepts about micro and macroeconomics, various factors correlated with the housing prices will be revealed. The paper will also demonstrate the changes in housing prices will eventually predict differences in inflation, investments rates, and geographical inequalities between metropolitan and rural areas. For further relations between variables and exploration about causations, regression models will be established. The paper summary statistics and map visualizations for the web scraped data. Micro data can be useful because it allows the economists to examine every single potential factors relate with housing values change. The findings of this paper is income levels and housing characteristics  determine the housing prices, the regions with higher housing values bring the investment rates up. Investors take the advantage of geographical locations and local economy, bring more business startups. Housing market run into monopolistic competitions where they need to higher the costs, price levels and housing values increase ultimately. The result will be meaningful in the sense that housing prices can be predictable and observable, and enable people to choose the kinds of cities to live in according to their preferences. Policy makers and economists can make further economic assumptions and relations based on the result."
   ]
  },
  {
   "cell_type": "markdown",
   "id": "4b568195",
   "metadata": {},
   "source": [
    "## Part Two: Previous Projects"
   ]
  },
  {
   "cell_type": "markdown",
   "id": "94537715",
   "metadata": {},
   "source": [
    "## Project One"
   ]
  },
  {
   "cell_type": "markdown",
   "id": "22e9a83e",
   "metadata": {},
   "source": [
    "The data is drawn from 1990 U.S. Census about housing prices in California in 1990, the data provided the information about the location of the houses, latitudes, longitudes, housing ages, and population and households within in each block, as well as households' incomes. "
   ]
  },
  {
   "cell_type": "markdown",
   "id": "004ecd1e",
   "metadata": {},
   "source": [
    "## Import libraries"
   ]
  },
  {
   "cell_type": "markdown",
   "id": "886fb40d",
   "metadata": {},
   "source": [
    "(<span style = 'color : red'>Comment 3: Make sure to suppress redundant output. <br></span>Improvement: I delete the redundant output.)"
   ]
  },
  {
   "cell_type": "code",
   "execution_count": 3,
   "id": "150d7194",
   "metadata": {},
   "outputs": [
    {
     "ename": "ModuleNotFoundError",
     "evalue": "No module named 'geopandas'",
     "output_type": "error",
     "traceback": [
      "\u001b[0;31m---------------------------------------------------------------------------\u001b[0m",
      "\u001b[0;31mModuleNotFoundError\u001b[0m                       Traceback (most recent call last)",
      "Input \u001b[0;32mIn [3]\u001b[0m, in \u001b[0;36m<cell line: 7>\u001b[0;34m()\u001b[0m\n\u001b[1;32m      4\u001b[0m \u001b[38;5;28;01mimport\u001b[39;00m \u001b[38;5;21;01mseaborn\u001b[39;00m \u001b[38;5;28;01mas\u001b[39;00m \u001b[38;5;21;01msns\u001b[39;00m\n\u001b[1;32m      6\u001b[0m \u001b[38;5;28;01mimport\u001b[39;00m \u001b[38;5;21;01mmatplotlib\u001b[39;00m\u001b[38;5;21;01m.\u001b[39;00m\u001b[38;5;21;01mimage\u001b[39;00m \u001b[38;5;28;01mas\u001b[39;00m \u001b[38;5;21;01mmpimg\u001b[39;00m\n\u001b[0;32m----> 7\u001b[0m \u001b[38;5;28;01mimport\u001b[39;00m \u001b[38;5;21;01mgeopandas\u001b[39;00m \u001b[38;5;28;01mas\u001b[39;00m \u001b[38;5;21;01mgpd\u001b[39;00m\n\u001b[1;32m      8\u001b[0m \u001b[38;5;28;01mfrom\u001b[39;00m \u001b[38;5;21;01mshapely\u001b[39;00m\u001b[38;5;21;01m.\u001b[39;00m\u001b[38;5;21;01mgeometry\u001b[39;00m \u001b[38;5;28;01mimport\u001b[39;00m Point\n\u001b[1;32m      9\u001b[0m \u001b[38;5;28;01mimport\u001b[39;00m \u001b[38;5;21;01mrequests\u001b[39;00m\n",
      "\u001b[0;31mModuleNotFoundError\u001b[0m: No module named 'geopandas'"
     ]
    }
   ],
   "source": [
    "%%capture\n",
    "import pandas as pd\n",
    "import numpy as np\n",
    "from matplotlib import pyplot as plt\n",
    "import seaborn as sns\n",
    "\n",
    "import matplotlib.image as mpimg\n",
    "import geopandas as gpd\n",
    "from shapely.geometry import Point\n",
    "import requests\n",
    "from bs4 import BeautifulSoup\n",
    "\n",
    "\n",
    "\n",
    "import statsmodels.api as sm\n",
    "from statsmodels.iolib.summary2 import summary_col\n",
    "from linearmodels.iv import IV2SLS\n",
    "\n",
    "%matplotlib inline\n",
    "import qeds\n",
    "qeds.themes.mpl_style();\n",
    "! pip install bokeh\n",
    "!pip install linearmodels\n",
    "import warnings\n",
    "warnings.filterwarnings('ignore')"
   ]
  },
  {
   "cell_type": "markdown",
   "id": "300a6061",
   "metadata": {},
   "source": [
    "### Reading data"
   ]
  },
  {
   "cell_type": "code",
   "execution_count": 4,
   "id": "76a17835",
   "metadata": {},
   "outputs": [
    {
     "data": {
      "text/html": [
       "<div>\n",
       "<style scoped>\n",
       "    .dataframe tbody tr th:only-of-type {\n",
       "        vertical-align: middle;\n",
       "    }\n",
       "\n",
       "    .dataframe tbody tr th {\n",
       "        vertical-align: top;\n",
       "    }\n",
       "\n",
       "    .dataframe thead th {\n",
       "        text-align: right;\n",
       "    }\n",
       "</style>\n",
       "<table border=\"1\" class=\"dataframe\">\n",
       "  <thead>\n",
       "    <tr style=\"text-align: right;\">\n",
       "      <th></th>\n",
       "      <th>longitude</th>\n",
       "      <th>latitude</th>\n",
       "      <th>housing_median_age</th>\n",
       "      <th>total_rooms</th>\n",
       "      <th>total_bedrooms</th>\n",
       "      <th>population</th>\n",
       "      <th>households</th>\n",
       "      <th>median_income</th>\n",
       "      <th>median_house_value</th>\n",
       "      <th>ocean_proximity</th>\n",
       "    </tr>\n",
       "  </thead>\n",
       "  <tbody>\n",
       "    <tr>\n",
       "      <th>0</th>\n",
       "      <td>-122.23</td>\n",
       "      <td>37.88</td>\n",
       "      <td>41</td>\n",
       "      <td>880</td>\n",
       "      <td>129.0</td>\n",
       "      <td>322</td>\n",
       "      <td>126</td>\n",
       "      <td>8.3252</td>\n",
       "      <td>452600</td>\n",
       "      <td>NEAR BAY</td>\n",
       "    </tr>\n",
       "    <tr>\n",
       "      <th>1</th>\n",
       "      <td>-122.22</td>\n",
       "      <td>37.86</td>\n",
       "      <td>21</td>\n",
       "      <td>7099</td>\n",
       "      <td>1106.0</td>\n",
       "      <td>2401</td>\n",
       "      <td>1138</td>\n",
       "      <td>8.3014</td>\n",
       "      <td>358500</td>\n",
       "      <td>NEAR BAY</td>\n",
       "    </tr>\n",
       "    <tr>\n",
       "      <th>2</th>\n",
       "      <td>-122.24</td>\n",
       "      <td>37.85</td>\n",
       "      <td>52</td>\n",
       "      <td>1467</td>\n",
       "      <td>190.0</td>\n",
       "      <td>496</td>\n",
       "      <td>177</td>\n",
       "      <td>7.2574</td>\n",
       "      <td>352100</td>\n",
       "      <td>NEAR BAY</td>\n",
       "    </tr>\n",
       "    <tr>\n",
       "      <th>3</th>\n",
       "      <td>-122.25</td>\n",
       "      <td>37.85</td>\n",
       "      <td>52</td>\n",
       "      <td>1274</td>\n",
       "      <td>235.0</td>\n",
       "      <td>558</td>\n",
       "      <td>219</td>\n",
       "      <td>5.6431</td>\n",
       "      <td>341300</td>\n",
       "      <td>NEAR BAY</td>\n",
       "    </tr>\n",
       "    <tr>\n",
       "      <th>4</th>\n",
       "      <td>-122.25</td>\n",
       "      <td>37.85</td>\n",
       "      <td>52</td>\n",
       "      <td>1627</td>\n",
       "      <td>280.0</td>\n",
       "      <td>565</td>\n",
       "      <td>259</td>\n",
       "      <td>3.8462</td>\n",
       "      <td>342200</td>\n",
       "      <td>NEAR BAY</td>\n",
       "    </tr>\n",
       "  </tbody>\n",
       "</table>\n",
       "</div>"
      ],
      "text/plain": [
       "   longitude  latitude  housing_median_age  total_rooms  total_bedrooms  \\\n",
       "0    -122.23     37.88                  41          880           129.0   \n",
       "1    -122.22     37.86                  21         7099          1106.0   \n",
       "2    -122.24     37.85                  52         1467           190.0   \n",
       "3    -122.25     37.85                  52         1274           235.0   \n",
       "4    -122.25     37.85                  52         1627           280.0   \n",
       "\n",
       "   population  households  median_income  median_house_value ocean_proximity  \n",
       "0         322         126         8.3252              452600        NEAR BAY  \n",
       "1        2401        1138         8.3014              358500        NEAR BAY  \n",
       "2         496         177         7.2574              352100        NEAR BAY  \n",
       "3         558         219         5.6431              341300        NEAR BAY  \n",
       "4         565         259         3.8462              342200        NEAR BAY  "
      ]
     },
     "execution_count": 4,
     "metadata": {},
     "output_type": "execute_result"
    }
   ],
   "source": [
    "# Reading and observing the dataset.\n",
    "df = pd.read_csv(\"housing.csv\")\n",
    "df = pd.DataFrame(df)\n",
    "df.head()"
   ]
  },
  {
   "cell_type": "markdown",
   "id": "a7509efa",
   "metadata": {},
   "source": [
    "There are 10 columns in the dataset, which means there are 10 attributes. "
   ]
  },
  {
   "cell_type": "markdown",
   "id": "661a3faf",
   "metadata": {},
   "source": [
    "Among all the variables, i want to focus on housing_Median_Age, avg_capacity, total_Rooms, ocean_Proximity, median_Income as my independent variables, and median_House_Value as my dependent variable. The following points introduce descriptions for all the variables."
   ]
  },
  {
   "cell_type": "markdown",
   "id": "96c822e8",
   "metadata": {},
   "source": [
    "<b>Independent variable:<b/>"
   ]
  },
  {
   "cell_type": "markdown",
   "id": "dbab2e6c",
   "metadata": {},
   "source": [
    "- Longitude: The longitude of block ."
   ]
  },
  {
   "cell_type": "markdown",
   "id": "3ba96231",
   "metadata": {},
   "source": [
    "- Latitude: The latitude of a block."
   ]
  },
  {
   "cell_type": "markdown",
   "id": "6c6ab022",
   "metadata": {},
   "source": [
    "- median_house_age: median age of a house within a block. "
   ]
  },
  {
   "cell_type": "markdown",
   "id": "f9cbc6dc",
   "metadata": {},
   "source": [
    "- total_rooms: total number of rooms within a block."
   ]
  },
  {
   "cell_type": "markdown",
   "id": "f73ce3f4",
   "metadata": {},
   "source": [
    "- total_bedrooms: total number of bedrooms within a block."
   ]
  },
  {
   "cell_type": "markdown",
   "id": "d21341aa",
   "metadata": {},
   "source": [
    "- population: total number of people within a block."
   ]
  },
  {
   "cell_type": "markdown",
   "id": "aae3e051",
   "metadata": {},
   "source": [
    "- households: total number of households within a block."
   ]
  },
  {
   "cell_type": "markdown",
   "id": "f2415188",
   "metadata": {},
   "source": [
    "- median_income: median income for households within a block, measured in tens of thousands of US Dollars."
   ]
  },
  {
   "cell_type": "markdown",
   "id": "e89ca125",
   "metadata": {},
   "source": [
    "- oceanProximity: location of the house compared with ocean."
   ]
  },
  {
   "cell_type": "markdown",
   "id": "46181d2e",
   "metadata": {},
   "source": [
    "I define a new varibale called 'avg_capacity', which equals to total rooms devide the total households within a block."
   ]
  },
  {
   "cell_type": "markdown",
   "id": "be269637",
   "metadata": {},
   "source": [
    "- avg_capacity: average capacity of a house within a block, how many households can be accomodated within a house. It equals to total rooms divided by households."
   ]
  },
  {
   "cell_type": "markdown",
   "id": "eecb1eac",
   "metadata": {},
   "source": [
    "<b>Dependent variable:<b/>"
   ]
  },
  {
   "cell_type": "markdown",
   "id": "ed82ac3d",
   "metadata": {},
   "source": [
    "- median_house_value: Median housing prices for households within a block, measured in US dollar"
   ]
  },
  {
   "cell_type": "code",
   "execution_count": 5,
   "id": "055b4a21",
   "metadata": {},
   "outputs": [
    {
     "name": "stdout",
     "output_type": "stream",
     "text": [
      "<class 'pandas.core.frame.DataFrame'>\n",
      "RangeIndex: 20640 entries, 0 to 20639\n",
      "Data columns (total 10 columns):\n",
      " #   Column              Non-Null Count  Dtype  \n",
      "---  ------              --------------  -----  \n",
      " 0   longitude           20640 non-null  float64\n",
      " 1   latitude            20640 non-null  float64\n",
      " 2   housing_median_age  20640 non-null  int64  \n",
      " 3   total_rooms         20640 non-null  int64  \n",
      " 4   total_bedrooms      20433 non-null  float64\n",
      " 5   population          20640 non-null  int64  \n",
      " 6   households          20640 non-null  int64  \n",
      " 7   median_income       20640 non-null  float64\n",
      " 8   median_house_value  20640 non-null  int64  \n",
      " 9   ocean_proximity     20640 non-null  object \n",
      "dtypes: float64(4), int64(5), object(1)\n",
      "memory usage: 1.6+ MB\n"
     ]
    }
   ],
   "source": [
    "df.info()"
   ]
  },
  {
   "cell_type": "markdown",
   "id": "5d8584c9",
   "metadata": {},
   "source": [
    "After checking the information about the dataset, except for ocean_proximity is object, the rest of the attributes are either floats or integers. "
   ]
  },
  {
   "cell_type": "markdown",
   "id": "56b76726",
   "metadata": {},
   "source": [
    "We also get to know that there are 20433 non-null counts for total_bedrooms, we can further check if there are other missing values in the dataset."
   ]
  },
  {
   "cell_type": "code",
   "execution_count": 6,
   "id": "c67e22bf",
   "metadata": {},
   "outputs": [
    {
     "data": {
      "text/plain": [
       "longitude               0\n",
       "latitude                0\n",
       "housing_median_age      0\n",
       "total_rooms             0\n",
       "total_bedrooms        207\n",
       "population              0\n",
       "households              0\n",
       "median_income           0\n",
       "median_house_value      0\n",
       "ocean_proximity         0\n",
       "dtype: int64"
      ]
     },
     "execution_count": 6,
     "metadata": {},
     "output_type": "execute_result"
    }
   ],
   "source": [
    "df.isnull().sum()"
   ]
  },
  {
   "cell_type": "markdown",
   "id": "7d2b5cce",
   "metadata": {},
   "source": [
    "As we can see, there are no other missing data."
   ]
  },
  {
   "cell_type": "markdown",
   "id": "06b9caf4",
   "metadata": {},
   "source": [
    "Since total_bedrooms is not my concern in this report, so i will clean it in the next part."
   ]
  },
  {
   "cell_type": "markdown",
   "id": "33a174ce",
   "metadata": {},
   "source": [
    "### Clean data"
   ]
  },
  {
   "cell_type": "markdown",
   "id": "4ab08fe1",
   "metadata": {},
   "source": [
    "(<span style = 'color : red'>Comment 3: Make sure to only include tables that are directly relevant to your research. What value does this one add?<br></span>Improvement: I deleted the code for showing the dataframe after i cleaned it, and add more explanations for explaining my extra output in the next line)"
   ]
  },
  {
   "cell_type": "code",
   "execution_count": 7,
   "id": "51c52d6f",
   "metadata": {},
   "outputs": [],
   "source": [
    "#There i created a new dataframe with only the variables i care about.\n",
    "df1 = df.drop(['total_bedrooms'], axis = 1)"
   ]
  },
  {
   "cell_type": "code",
   "execution_count": 8,
   "id": "cc9d65c8",
   "metadata": {},
   "outputs": [],
   "source": [
    "#Creating new variable called 'avg_capacity'.\n",
    "df1['avg_capacity'] = df.total_rooms / df.households"
   ]
  },
  {
   "cell_type": "markdown",
   "id": "f46c4930",
   "metadata": {},
   "source": [
    "I created a new variable called 'avg_capacity' to measure the rooms per household within a block, since households are concerned about their family size and housing prices."
   ]
  },
  {
   "cell_type": "markdown",
   "id": "dcfccf77",
   "metadata": {},
   "source": [
    "### Summary Statistics"
   ]
  },
  {
   "cell_type": "markdown",
   "id": "937c7bbd",
   "metadata": {},
   "source": [
    "In this part, i will present some tables and statistics to explore and explain the data, and further explain the <span style = 'color : red'>relationship between housing features, households' incomes and house values. </span>"
   ]
  },
  {
   "cell_type": "markdown",
   "id": "d0af6b1c",
   "metadata": {},
   "source": [
    "Firstly, the housing prices summary statistics:"
   ]
  },
  {
   "cell_type": "code",
   "execution_count": 9,
   "id": "9c13b486",
   "metadata": {},
   "outputs": [
    {
     "data": {
      "text/plain": [
       "count     20640.000000\n",
       "mean     206855.816909\n",
       "std      115395.615874\n",
       "min       14999.000000\n",
       "25%      119600.000000\n",
       "50%      179700.000000\n",
       "75%      264725.000000\n",
       "max      500001.000000\n",
       "Name: median_house_value, dtype: float64"
      ]
     },
     "execution_count": 9,
     "metadata": {},
     "output_type": "execute_result"
    }
   ],
   "source": [
    "df1['median_house_value'].describe()"
   ]
  },
  {
   "cell_type": "markdown",
   "id": "3aad6de1",
   "metadata": {},
   "source": [
    "Median households' incomes summary statistics:"
   ]
  },
  {
   "cell_type": "code",
   "execution_count": 10,
   "id": "97503d7c",
   "metadata": {},
   "outputs": [
    {
     "data": {
      "text/plain": [
       "count    20640.000000\n",
       "mean         3.870671\n",
       "std          1.899822\n",
       "min          0.499900\n",
       "25%          2.563400\n",
       "50%          3.534800\n",
       "75%          4.743250\n",
       "max         15.000100\n",
       "Name: median_income, dtype: float64"
      ]
     },
     "execution_count": 10,
     "metadata": {},
     "output_type": "execute_result"
    }
   ],
   "source": [
    "df1['median_income'].describe()"
   ]
  },
  {
   "cell_type": "markdown",
   "id": "fdb960a4",
   "metadata": {},
   "source": [
    "By comparing these two dataframes, i can draw some conclusions:"
   ]
  },
  {
   "cell_type": "markdown",
   "id": "7310ed69",
   "metadata": {},
   "source": [
    "- The mean for housing prices is 206855 US dollars, the mean for households' incomes were 38706 US dollars."
   ]
  },
  {
   "cell_type": "markdown",
   "id": "e8acca87",
   "metadata": {},
   "source": [
    "- The highest median income among households was 150000 US dollars, the highest median housing price was 500001 US dollars."
   ]
  },
  {
   "cell_type": "code",
   "execution_count": 11,
   "id": "52eeaa2a",
   "metadata": {},
   "outputs": [
    {
     "data": {
      "text/html": [
       "<div>\n",
       "<style scoped>\n",
       "    .dataframe tbody tr th:only-of-type {\n",
       "        vertical-align: middle;\n",
       "    }\n",
       "\n",
       "    .dataframe tbody tr th {\n",
       "        vertical-align: top;\n",
       "    }\n",
       "\n",
       "    .dataframe thead th {\n",
       "        text-align: right;\n",
       "    }\n",
       "</style>\n",
       "<table border=\"1\" class=\"dataframe\">\n",
       "  <thead>\n",
       "    <tr style=\"text-align: right;\">\n",
       "      <th></th>\n",
       "      <th>mean_medianHouse_value</th>\n",
       "    </tr>\n",
       "    <tr>\n",
       "      <th>ocean_proximity</th>\n",
       "      <th></th>\n",
       "    </tr>\n",
       "  </thead>\n",
       "  <tbody>\n",
       "    <tr>\n",
       "      <th>&lt;1H OCEAN</th>\n",
       "      <td>240084.285464</td>\n",
       "    </tr>\n",
       "    <tr>\n",
       "      <th>INLAND</th>\n",
       "      <td>124805.392001</td>\n",
       "    </tr>\n",
       "    <tr>\n",
       "      <th>ISLAND</th>\n",
       "      <td>380440.000000</td>\n",
       "    </tr>\n",
       "    <tr>\n",
       "      <th>NEAR BAY</th>\n",
       "      <td>259212.311790</td>\n",
       "    </tr>\n",
       "    <tr>\n",
       "      <th>NEAR OCEAN</th>\n",
       "      <td>249433.977427</td>\n",
       "    </tr>\n",
       "  </tbody>\n",
       "</table>\n",
       "</div>"
      ],
      "text/plain": [
       "                 mean_medianHouse_value\n",
       "ocean_proximity                        \n",
       "<1H OCEAN                 240084.285464\n",
       "INLAND                    124805.392001\n",
       "ISLAND                    380440.000000\n",
       "NEAR BAY                  259212.311790\n",
       "NEAR OCEAN                249433.977427"
      ]
     },
     "execution_count": 11,
     "metadata": {},
     "output_type": "execute_result"
    }
   ],
   "source": [
    "#I created a dataframe 2 for showing the mean of median housing \n",
    "#prices categorized by ocean_proximity\n",
    "df2 = df1[[\"ocean_proximity\",\"median_house_value\"]].groupby(\n",
    "    \"ocean_proximity\").mean().rename(columns = {\n",
    "    \"median_house_value\" : \"mean_medianHouse_value\"})\n",
    "df2"
   ]
  },
  {
   "cell_type": "markdown",
   "id": "1b23c803",
   "metadata": {},
   "source": [
    "Housing price was the highest on the island, lowest in inland. And it got more expensive when the blocks were closer to the ocean."
   ]
  },
  {
   "cell_type": "code",
   "execution_count": 12,
   "id": "e5409b4a",
   "metadata": {},
   "outputs": [],
   "source": [
    "#I created a dataframe 3 to show the avergae capacity of houses \n",
    "#within a block categorized by ocean_proximity.\n",
    "df3 = df1[[\"ocean_proximity\",\"avg_capacity\"]].groupby(\n",
    "    \"ocean_proximity\").mean()"
   ]
  },
  {
   "cell_type": "code",
   "execution_count": 13,
   "id": "f865e0bd",
   "metadata": {},
   "outputs": [
    {
     "data": {
      "text/html": [
       "<div>\n",
       "<style scoped>\n",
       "    .dataframe tbody tr th:only-of-type {\n",
       "        vertical-align: middle;\n",
       "    }\n",
       "\n",
       "    .dataframe tbody tr th {\n",
       "        vertical-align: top;\n",
       "    }\n",
       "\n",
       "    .dataframe thead th {\n",
       "        text-align: right;\n",
       "    }\n",
       "</style>\n",
       "<table border=\"1\" class=\"dataframe\">\n",
       "  <thead>\n",
       "    <tr style=\"text-align: right;\">\n",
       "      <th></th>\n",
       "      <th>avg_capacity</th>\n",
       "    </tr>\n",
       "    <tr>\n",
       "      <th>ocean_proximity</th>\n",
       "      <th></th>\n",
       "    </tr>\n",
       "  </thead>\n",
       "  <tbody>\n",
       "    <tr>\n",
       "      <th>&lt;1H OCEAN</th>\n",
       "      <td>5.152576</td>\n",
       "    </tr>\n",
       "    <tr>\n",
       "      <th>INLAND</th>\n",
       "      <td>5.977265</td>\n",
       "    </tr>\n",
       "    <tr>\n",
       "      <th>ISLAND</th>\n",
       "      <td>5.656577</td>\n",
       "    </tr>\n",
       "    <tr>\n",
       "      <th>NEAR BAY</th>\n",
       "      <td>5.221705</td>\n",
       "    </tr>\n",
       "    <tr>\n",
       "      <th>NEAR OCEAN</th>\n",
       "      <td>5.206008</td>\n",
       "    </tr>\n",
       "  </tbody>\n",
       "</table>\n",
       "</div>"
      ],
      "text/plain": [
       "                 avg_capacity\n",
       "ocean_proximity              \n",
       "<1H OCEAN            5.152576\n",
       "INLAND               5.977265\n",
       "ISLAND               5.656577\n",
       "NEAR BAY             5.221705\n",
       "NEAR OCEAN           5.206008"
      ]
     },
     "execution_count": 13,
     "metadata": {},
     "output_type": "execute_result"
    }
   ],
   "source": [
    "df3"
   ]
  },
  {
   "cell_type": "markdown",
   "id": "ccaf382d",
   "metadata": {},
   "source": [
    "From table above we can observe <span style='color:red'>no </span> big differences in average capacity between each category. However, Inland or Island blocks offered slightly larger spaces than near the ocean. This makes sense, since there are more spaces for building construction in inland areas compared with near the ocean."
   ]
  },
  {
   "cell_type": "code",
   "execution_count": 14,
   "id": "1f01ba09",
   "metadata": {},
   "outputs": [
    {
     "data": {
      "text/plain": [
       "<1H OCEAN     9136\n",
       "INLAND        6551\n",
       "NEAR OCEAN    2658\n",
       "NEAR BAY      2290\n",
       "ISLAND           5\n",
       "Name: ocean_proximity, dtype: int64"
      ]
     },
     "execution_count": 14,
     "metadata": {},
     "output_type": "execute_result"
    }
   ],
   "source": [
    "df4=df1[\"ocean_proximity\"].value_counts()\n",
    "df4"
   ]
  },
  {
   "cell_type": "markdown",
   "id": "527ea459",
   "metadata": {},
   "source": [
    "This dataframe summarizes total number of houses in different areas in California, among which the number of houses living 1 hour less than ocean was the highest, accounting for 9136."
   ]
  },
  {
   "cell_type": "markdown",
   "id": "28de257e",
   "metadata": {},
   "source": [
    "<b>I will further specifically present histograms and scatterplots to show the distribution of those areas and how housing prices differ in these regions in next part.</b>"
   ]
  },
  {
   "cell_type": "code",
   "execution_count": 15,
   "id": "8972a340",
   "metadata": {},
   "outputs": [
    {
     "data": {
      "text/html": [
       "<div>\n",
       "<style scoped>\n",
       "    .dataframe tbody tr th:only-of-type {\n",
       "        vertical-align: middle;\n",
       "    }\n",
       "\n",
       "    .dataframe tbody tr th {\n",
       "        vertical-align: top;\n",
       "    }\n",
       "\n",
       "    .dataframe thead th {\n",
       "        text-align: right;\n",
       "    }\n",
       "</style>\n",
       "<table border=\"1\" class=\"dataframe\">\n",
       "  <thead>\n",
       "    <tr style=\"text-align: right;\">\n",
       "      <th></th>\n",
       "      <th>mean_medianIncome</th>\n",
       "    </tr>\n",
       "    <tr>\n",
       "      <th>ocean_proximity</th>\n",
       "      <th></th>\n",
       "    </tr>\n",
       "  </thead>\n",
       "  <tbody>\n",
       "    <tr>\n",
       "      <th>&lt;1H OCEAN</th>\n",
       "      <td>4.230682</td>\n",
       "    </tr>\n",
       "    <tr>\n",
       "      <th>INLAND</th>\n",
       "      <td>3.208996</td>\n",
       "    </tr>\n",
       "    <tr>\n",
       "      <th>ISLAND</th>\n",
       "      <td>2.744420</td>\n",
       "    </tr>\n",
       "    <tr>\n",
       "      <th>NEAR BAY</th>\n",
       "      <td>4.172885</td>\n",
       "    </tr>\n",
       "    <tr>\n",
       "      <th>NEAR OCEAN</th>\n",
       "      <td>4.005785</td>\n",
       "    </tr>\n",
       "  </tbody>\n",
       "</table>\n",
       "</div>"
      ],
      "text/plain": [
       "                 mean_medianIncome\n",
       "ocean_proximity                   \n",
       "<1H OCEAN                 4.230682\n",
       "INLAND                    3.208996\n",
       "ISLAND                    2.744420\n",
       "NEAR BAY                  4.172885\n",
       "NEAR OCEAN                4.005785"
      ]
     },
     "execution_count": 15,
     "metadata": {},
     "output_type": "execute_result"
    }
   ],
   "source": [
    "#I created dataframe 5 so that i can merge to make comparisons later.\n",
    "df5 = df1[[\"ocean_proximity\",\"median_income\"]].groupby(\n",
    "    \"ocean_proximity\").mean().rename(columns = {\n",
    "    \"median_income\" : \"mean_medianIncome\"})\n",
    "df5"
   ]
  },
  {
   "cell_type": "code",
   "execution_count": 16,
   "id": "9ae5de01",
   "metadata": {},
   "outputs": [
    {
     "data": {
      "text/html": [
       "<div>\n",
       "<style scoped>\n",
       "    .dataframe tbody tr th:only-of-type {\n",
       "        vertical-align: middle;\n",
       "    }\n",
       "\n",
       "    .dataframe tbody tr th {\n",
       "        vertical-align: top;\n",
       "    }\n",
       "\n",
       "    .dataframe thead th {\n",
       "        text-align: right;\n",
       "    }\n",
       "</style>\n",
       "<table border=\"1\" class=\"dataframe\">\n",
       "  <thead>\n",
       "    <tr style=\"text-align: right;\">\n",
       "      <th></th>\n",
       "      <th>population</th>\n",
       "    </tr>\n",
       "    <tr>\n",
       "      <th>ocean_proximity</th>\n",
       "      <th></th>\n",
       "    </tr>\n",
       "  </thead>\n",
       "  <tbody>\n",
       "    <tr>\n",
       "      <th>&lt;1H OCEAN</th>\n",
       "      <td>1520.290499</td>\n",
       "    </tr>\n",
       "    <tr>\n",
       "      <th>INLAND</th>\n",
       "      <td>1391.046252</td>\n",
       "    </tr>\n",
       "    <tr>\n",
       "      <th>ISLAND</th>\n",
       "      <td>668.000000</td>\n",
       "    </tr>\n",
       "    <tr>\n",
       "      <th>NEAR BAY</th>\n",
       "      <td>1230.317467</td>\n",
       "    </tr>\n",
       "    <tr>\n",
       "      <th>NEAR OCEAN</th>\n",
       "      <td>1354.008653</td>\n",
       "    </tr>\n",
       "  </tbody>\n",
       "</table>\n",
       "</div>"
      ],
      "text/plain": [
       "                  population\n",
       "ocean_proximity             \n",
       "<1H OCEAN        1520.290499\n",
       "INLAND           1391.046252\n",
       "ISLAND            668.000000\n",
       "NEAR BAY         1230.317467\n",
       "NEAR OCEAN       1354.008653"
      ]
     },
     "execution_count": 16,
     "metadata": {},
     "output_type": "execute_result"
    }
   ],
   "source": [
    "#I created dataframe 6 to show the average population in each \n",
    "#ocean_proximity category.\n",
    "df6 = df1[[\"ocean_proximity\",\"population\"]].groupby(\n",
    "        \"ocean_proximity\").mean()\n",
    "df6"
   ]
  },
  {
   "cell_type": "code",
   "execution_count": 17,
   "id": "08bce0a1",
   "metadata": {},
   "outputs": [
    {
     "data": {
      "text/html": [
       "<div>\n",
       "<style scoped>\n",
       "    .dataframe tbody tr th:only-of-type {\n",
       "        vertical-align: middle;\n",
       "    }\n",
       "\n",
       "    .dataframe tbody tr th {\n",
       "        vertical-align: top;\n",
       "    }\n",
       "\n",
       "    .dataframe thead th {\n",
       "        text-align: right;\n",
       "    }\n",
       "</style>\n",
       "<table border=\"1\" class=\"dataframe\">\n",
       "  <thead>\n",
       "    <tr style=\"text-align: right;\">\n",
       "      <th></th>\n",
       "      <th>Number_of_houses</th>\n",
       "      <th>avg_capacity</th>\n",
       "      <th>avergae_population</th>\n",
       "      <th>mean_medianHouse_value</th>\n",
       "      <th>mean_medianIncome</th>\n",
       "    </tr>\n",
       "  </thead>\n",
       "  <tbody>\n",
       "    <tr>\n",
       "      <th>&lt;1H OCEAN</th>\n",
       "      <td>9136</td>\n",
       "      <td>5.152576</td>\n",
       "      <td>1520.290499</td>\n",
       "      <td>240084.285464</td>\n",
       "      <td>4.230682</td>\n",
       "    </tr>\n",
       "    <tr>\n",
       "      <th>INLAND</th>\n",
       "      <td>6551</td>\n",
       "      <td>5.977265</td>\n",
       "      <td>1391.046252</td>\n",
       "      <td>124805.392001</td>\n",
       "      <td>3.208996</td>\n",
       "    </tr>\n",
       "    <tr>\n",
       "      <th>NEAR OCEAN</th>\n",
       "      <td>2658</td>\n",
       "      <td>5.206008</td>\n",
       "      <td>1354.008653</td>\n",
       "      <td>249433.977427</td>\n",
       "      <td>4.005785</td>\n",
       "    </tr>\n",
       "    <tr>\n",
       "      <th>NEAR BAY</th>\n",
       "      <td>2290</td>\n",
       "      <td>5.221705</td>\n",
       "      <td>1230.317467</td>\n",
       "      <td>259212.311790</td>\n",
       "      <td>4.172885</td>\n",
       "    </tr>\n",
       "    <tr>\n",
       "      <th>ISLAND</th>\n",
       "      <td>5</td>\n",
       "      <td>5.656577</td>\n",
       "      <td>668.000000</td>\n",
       "      <td>380440.000000</td>\n",
       "      <td>2.744420</td>\n",
       "    </tr>\n",
       "  </tbody>\n",
       "</table>\n",
       "</div>"
      ],
      "text/plain": [
       "            Number_of_houses  avg_capacity  avergae_population  \\\n",
       "<1H OCEAN               9136      5.152576         1520.290499   \n",
       "INLAND                  6551      5.977265         1391.046252   \n",
       "NEAR OCEAN              2658      5.206008         1354.008653   \n",
       "NEAR BAY                2290      5.221705         1230.317467   \n",
       "ISLAND                     5      5.656577          668.000000   \n",
       "\n",
       "            mean_medianHouse_value  mean_medianIncome  \n",
       "<1H OCEAN            240084.285464           4.230682  \n",
       "INLAND               124805.392001           3.208996  \n",
       "NEAR OCEAN           249433.977427           4.005785  \n",
       "NEAR BAY             259212.311790           4.172885  \n",
       "ISLAND               380440.000000           2.744420  "
      ]
     },
     "execution_count": 17,
     "metadata": {},
     "output_type": "execute_result"
    }
   ],
   "source": [
    "# Concating the dataset to obtain the information about the\n",
    "#differences in houses categorized by ocean_proximity.\n",
    "pd.concat([df4,df3,df6,df2,df5],axis=1).rename(columns = {\n",
    "    \"ocean_proximity\" : \"Number_of_houses\", \n",
    "    \"population\":\"avergae_population\"})"
   ]
  },
  {
   "cell_type": "markdown",
   "id": "a2da8860",
   "metadata": {},
   "source": [
    "Main findings of the table:"
   ]
  },
  {
   "cell_type": "markdown",
   "id": "f8d8138a",
   "metadata": {},
   "source": [
    "- Most of the people lived 1 hour less near the ocean, and average income in that area was the highest. Although the average capacity of the houses were limited, those people only had to pay the second lowest housing prices(240084 US Dollars).\n"
   ]
  },
  {
   "cell_type": "markdown",
   "id": "386ea102",
   "metadata": {},
   "source": [
    "<span style='color:blue'>Economic intuitions: </span>We know housing prices got higher when near the ocean, households were willing to bare the high opportunity costs of living 1 hour less than ocean, they did not want to spend lots of money even if their incomes were relatively high. "
   ]
  },
  {
   "cell_type": "markdown",
   "id": "53d0b854",
   "metadata": {},
   "source": [
    "- Housing prices did not necessarily increase as the houses can accomodate more people (higher avg_capacity). I will show this result with a diagram in the next part."
   ]
  },
  {
   "cell_type": "markdown",
   "id": "2c9a5e16",
   "metadata": {},
   "source": [
    "### Visualization and interpretation "
   ]
  },
  {
   "cell_type": "markdown",
   "id": "74d91d30",
   "metadata": {},
   "source": [
    "In this part, i mainly want to explain the following relationships through visualizations"
   ]
  },
  {
   "cell_type": "markdown",
   "id": "9f21685c",
   "metadata": {},
   "source": [
    "- households' median incomes and housing prices\n",
    "- Housing ages and housing prices\n",
    "- Total rooms and housing prices\n",
    "- The distances away from the ocean and housing prices"
   ]
  },
  {
   "cell_type": "markdown",
   "id": "1a80e791",
   "metadata": {},
   "source": [
    "Firstly, i will show all the distribution of my independent and dependent variables respectively"
   ]
  },
  {
   "cell_type": "markdown",
   "id": "17696200",
   "metadata": {},
   "source": [
    "(<span style = 'color : red'>Comment 4: Missing x and y axis labels on graph<br></span>Improvement: I divided my combined 5 histograms into 5 seperate bigger histograms with axis labels and title.)"
   ]
  },
  {
   "cell_type": "code",
   "execution_count": 18,
   "id": "e6df7cb8",
   "metadata": {
    "scrolled": true
   },
   "outputs": [
    {
     "data": {
      "image/png": "[encoded data removed]",
      "text/plain": [
       "<Figure size 720x576 with 1 Axes>"
      ]
     },
     "metadata": {
      "needs_background": "light"
     },
     "output_type": "display_data"
    }
   ],
   "source": [
    "df1.drop(['longitude'],axis =1).drop(['latitude'],axis =1).drop(['avg_capacity'],axis =1).drop(['median_house_value'],axis =1).drop(['median_income'],axis =1).drop(['total_rooms'],axis =1).drop(['population'],axis =1).drop(['households'],axis =1).hist(bins = 50, figsize = (10,8))\n",
    "plt.savefig(\"attribute_histogram_plots.png\")\n",
    "plt.xlabel('Median housing age of a house within a block')\n",
    "plt.ylabel('Total counts for number of houses for each housing age')\n",
    "plt.title('Median housing age')\n",
    "plt.show()"
   ]
  },
  {
   "cell_type": "code",
   "execution_count": 19,
   "id": "d705d1ba",
   "metadata": {},
   "outputs": [
    {
     "data": {
      "image/png": "[encoded data removed]",
      "text/plain": [
       "<Figure size 576x432 with 1 Axes>"
      ]
     },
     "metadata": {
      "needs_background": "light"
     },
     "output_type": "display_data"
    }
   ],
   "source": [
    "df1.drop(['longitude'],axis =1).drop(['latitude'],axis =1).drop(['housing_median_age'],axis =1).drop(['median_house_value'],axis =1).drop(['median_income'],axis =1).drop(['total_rooms'],axis =1).drop(['population'],axis =1).drop(['households'],axis =1).hist(bins = 50, figsize = (8,6))\n",
    "plt.savefig(\"attribute_histogram_plots.png\")\n",
    "plt.xlabel('Average capacity of a house within a blcok')\n",
    "plt.ylabel('Total counts for number of houses')\n",
    "plt.title('Average capacity')\n",
    "plt.show()"
   ]
  },
  {
   "cell_type": "code",
   "execution_count": 20,
   "id": "e1d2031a",
   "metadata": {},
   "outputs": [
    {
     "data": {
      "image/png": "[encoded data removed]",
      "text/plain": [
       "<Figure size 720x432 with 1 Axes>"
      ]
     },
     "metadata": {
      "needs_background": "light"
     },
     "output_type": "display_data"
    }
   ],
   "source": [
    "df1.drop(['longitude'],axis =1).drop(['latitude'],axis =1).drop(['avg_capacity'],axis =1).drop(['median_house_value'],axis =1).drop(['median_income'],axis =1).drop(['housing_median_age'],axis =1).drop(['population'],axis =1).drop(['households'],axis =1).hist(bins = 50, figsize = (10,6))\n",
    "plt.savefig(\"attribute_histogram_plots.png\")\n",
    "plt.xlabel('Total number of rooms of a house within a block')\n",
    "plt.ylabel('Total counts for number of houses')\n",
    "plt.title('Total rooms')\n",
    "plt.show()"
   ]
  },
  {
   "cell_type": "code",
   "execution_count": 21,
   "id": "d0047fd3",
   "metadata": {},
   "outputs": [
    {
     "data": {
      "image/png": "[encoded data removed]",
      "text/plain": [
       "<Figure size 576x432 with 1 Axes>"
      ]
     },
     "metadata": {
      "needs_background": "light"
     },
     "output_type": "display_data"
    }
   ],
   "source": [
    "df1.drop(['longitude'],axis =1).drop(['latitude'],axis =1).drop(['avg_capacity'],axis =1).drop(['median_house_value'],axis =1).drop(['housing_median_age'],axis =1).drop(['total_rooms'],axis =1).drop(['population'],axis =1).drop(['households'],axis =1).hist(bins = 50, figsize = (8,6))\n",
    "plt.savefig(\"attribute_histogram_plots.png\")\n",
    "plt.xlabel('Median income of households in a house within a block, in US Dollars')\n",
    "plt.ylabel('Total counts for number of houses')\n",
    "plt.title('Median Income')\n",
    "plt.show()"
   ]
  },
  {
   "cell_type": "code",
   "execution_count": 22,
   "id": "103d3bc6",
   "metadata": {},
   "outputs": [
    {
     "data": {
      "image/png": "[encoded data removed]",
      "text/plain": [
       "<Figure size 576x432 with 1 Axes>"
      ]
     },
     "metadata": {
      "needs_background": "light"
     },
     "output_type": "display_data"
    }
   ],
   "source": [
    "df1.drop(['longitude'],axis =1).drop(['latitude'],axis =1).drop(['avg_capacity'],axis =1).drop(['housing_median_age'],axis =1).drop(['median_income'],axis =1).drop(['total_rooms'],axis =1).drop(['population'],axis =1).drop(['households'],axis =1).hist(bins = 50, figsize = (8,6))\n",
    "plt.savefig(\"attribute_histogram_plots.png\")\n",
    "plt.xlabel('Median housing value of a house within a block, in US Dollars')\n",
    "plt.ylabel('Total counts for number of houses')\n",
    "plt.title('Median Housing prices')\n",
    "plt.show()"
   ]
  },
  {
   "cell_type": "markdown",
   "id": "f2b1b767",
   "metadata": {},
   "source": [
    "The histograms above suggest the following facts:"
   ]
  },
  {
   "cell_type": "markdown",
   "id": "4dd6d0b4",
   "metadata": {},
   "source": [
    "- The distribution of housing median age was quite uniform, there were lots of houses aged above 50 years.\n",
    "- The distribution of total rooms was right-skewed, most of the blocks contained around 3000 rooms.\n",
    "- The distribution of median income was also right-skewed, most of the households got income around 25000 US dollars.\n",
    "- The distribution of median house values was slightly right-skewed, most of the housing prices were around 100000 to 200000 US dollars, however, there were above 1000 houses worthed about 500000 US dollars."
   ]
  },
  {
   "cell_type": "code",
   "execution_count": 23,
   "id": "d7b50800",
   "metadata": {
    "scrolled": false
   },
   "outputs": [
    {
     "data": {
      "image/png": "[encoded data removed]",
      "text/plain": [
       "<Figure size 432x288 with 1 Axes>"
      ]
     },
     "metadata": {
      "needs_background": "light"
     },
     "output_type": "display_data"
    }
   ],
   "source": [
    "#Creating the histogram to show the distribution of the number of houses in each ocean_proximity category.\n",
    "df1.ocean_proximity.value_counts().plot(kind = \"bar\",color = 'blue')\n",
    "plt.title('Total number of houses categorized by ocean_proximity ')\n",
    "plt.xlabel('ocean proximity')\n",
    "plt.ylabel('Number of houses')\n",
    "plt.show()"
   ]
  },
  {
   "cell_type": "markdown",
   "id": "66594f88",
   "metadata": {},
   "source": [
    "The histogram above shows the distribution of total number of houses in each ocean_proximity category, as i mentioned ealier, the number of houses living 1 hour less than ocean was the highest."
   ]
  },
  {
   "cell_type": "markdown",
   "id": "0e967367",
   "metadata": {},
   "source": [
    "(<span style = 'color : red'>Comment 5 and 6: Main title is missing on graph<br></span>Improvement: Added titles for all graphs.)"
   ]
  },
  {
   "cell_type": "code",
   "execution_count": 24,
   "id": "ef1ec9f3",
   "metadata": {},
   "outputs": [
    {
     "data": {
      "text/plain": [
       "[]"
      ]
     },
     "execution_count": 24,
     "metadata": {},
     "output_type": "execute_result"
    },
    {
     "data": {
      "image/png": "[encoded data removed]",
      "text/plain": [
       "<Figure size 720x432 with 1 Axes>"
      ]
     },
     "metadata": {
      "needs_background": "light"
     },
     "output_type": "display_data"
    }
   ],
   "source": [
    "plt.figure(figsize=(10,6))\n",
    "sns.boxplot(data=df1,x='ocean_proximity',y='median_house_value',palette='viridis')\n",
    "plt.title('Median housing prices categorized by ocean_proximity variable')\n",
    "plt.plot()"
   ]
  },
  {
   "cell_type": "markdown",
   "id": "5a0e429b",
   "metadata": {},
   "source": [
    "This boxplot clearly illustrates that the housing prices were the highest on island, and prices got higher when it was closer to the ocean."
   ]
  },
  {
   "cell_type": "markdown",
   "id": "507e4fee",
   "metadata": {},
   "source": [
    "<b>Next, i will illustrate the relationship between housing values and median incomes of households.</b>"
   ]
  },
  {
   "cell_type": "code",
   "execution_count": 25,
   "id": "1c4b47ab",
   "metadata": {},
   "outputs": [
    {
     "data": {
      "image/png": "[encoded data removed]",
      "text/plain": [
       "<Figure size 1008x576 with 1 Axes>"
      ]
     },
     "metadata": {
      "needs_background": "light"
     },
     "output_type": "display_data"
    }
   ],
   "source": [
    "#ploting scatterplot to link income levels and housing values.\n",
    "plt.figure(figsize = (14,8))\n",
    "sns.scatterplot(x = 'median_income', y = 'median_house_value', data = df1, alpha = 0.1)\n",
    "plt.title(\"Relations between median housing values and households' median incomes\")\n",
    "plt.xlabel(\"Households' median incomes measured in tens of thousands US Dollars\")\n",
    "plt.ylabel(\"Median housing values for each house within a block\")\n",
    "plt.show()"
   ]
  },
  {
   "cell_type": "markdown",
   "id": "7ab5e7c8",
   "metadata": {},
   "source": [
    "From the scatterplot above we can see:"
   ]
  },
  {
   "cell_type": "markdown",
   "id": "c42b5cae",
   "metadata": {},
   "source": [
    "- Households mainly bought houses with around 50000 to 300000 US values.\n",
    "- For those households who mainly bought 50000 to 300000 US dollars houses, their incomes were around 10000 to 60000 US dollars.\n",
    "- Some of the households with income more than 40000 US dollars bought houses at 500000 US dollars.\n",
    "- When households got even richer with above 80000 US Dollars, they will focus on the houses with the highest value.\n",
    "- As households' incomes increase, they would buy more expensive houses, houses were <span style='color:red'>normal </span> good for those people."
   ]
  },
  {
   "cell_type": "markdown",
   "id": "2a8d1ea0",
   "metadata": {},
   "source": [
    "(<span style = 'color : red'>Comment 7: Graph not informative<br></span>Improvement: Showing the relations between housing prices and housing ages with heat map.)"
   ]
  },
  {
   "cell_type": "markdown",
   "id": "3700464e",
   "metadata": {},
   "source": [
    "A efficient and direct way to help us observe the relations between housing prices and housing ages is to plot <b>heat map<b/>."
   ]
  },
  {
   "cell_type": "code",
   "execution_count": 26,
   "id": "cab1cec9",
   "metadata": {
    "scrolled": false
   },
   "outputs": [
    {
     "data": {
      "image/png": "[encoded data removed]",
      "text/plain": [
       "<Figure size 720x576 with 2 Axes>"
      ]
     },
     "metadata": {
      "needs_background": "light"
     },
     "output_type": "display_data"
    }
   ],
   "source": [
    "plt.figure(figsize=(10,8))\n",
    "plt.title(\"The relations between housing prices and housing ages\")\n",
    "corr = df1.drop(['longitude'],axis =1).drop(['latitude'],axis =1).drop(['avg_capacity'],axis =1).drop(['median_income'],axis =1).drop(['total_rooms'],axis =1).drop(['population'],axis =1).drop(['households'],axis =1).corr()\n",
    "sns.heatmap(corr, \n",
    "            xticklabels=corr.columns.values, \n",
    "            yticklabels=corr.columns.values)\n",
    "plt.show()"
   ]
  },
  {
   "cell_type": "markdown",
   "id": "cce03c42",
   "metadata": {},
   "source": [
    "The heat map illustrates that: black means there are 0 relation between two variables. "
   ]
  },
  {
   "cell_type": "markdown",
   "id": "8805cb06",
   "metadata": {},
   "source": [
    "Thus, we can clearly see that there were <span style='color:red'>no </span> big differences in housing prices categorized by median housing ages, which means housing prices would not increase even if the buildings were newly constructed. "
   ]
  },
  {
   "cell_type": "markdown",
   "id": "57b97106",
   "metadata": {},
   "source": [
    "<span style='color:blue'>Economic intuitions: </span> This situation is related with households' preferences, some people prefered newly constructed houses, while the others thought aged buildings were more reliable and safe."
   ]
  },
  {
   "cell_type": "code",
   "execution_count": 27,
   "id": "c80f6959",
   "metadata": {},
   "outputs": [
    {
     "data": {
      "image/png": "[encoded data removed]",
      "text/plain": [
       "<Figure size 720x720 with 1 Axes>"
      ]
     },
     "metadata": {
      "needs_background": "light"
     },
     "output_type": "display_data"
    }
   ],
   "source": [
    "#ploting scatterplot to link average capacity and housing values.\n",
    "plt.figure(figsize = (10,10))\n",
    "sns.scatterplot(x = 'avg_capacity', y = 'median_house_value', data = df1, alpha = 0.8)\n",
    "plt.title(\"The relation between average capcacity of a house within a block and its housing values\")\n",
    "plt.show()"
   ]
  },
  {
   "cell_type": "markdown",
   "id": "35a160d4",
   "metadata": {},
   "source": [
    "- The average of the housing capacity was around 5, which means there were 5 rooms for each household in the block.\n",
    "- However, the housing prices varied at capacity of 5, which means more rooms per household did not indicate higher housing prices, houses with more average capacity do not cost more."
   ]
  },
  {
   "cell_type": "markdown",
   "id": "6e573466",
   "metadata": {},
   "source": [
    "# Project Two"
   ]
  },
  {
   "cell_type": "markdown",
   "id": "1cf7770c",
   "metadata": {},
   "source": [
    "### THE MAIN MESSAGE"
   ]
  },
  {
   "cell_type": "markdown",
   "id": "a2865a7c",
   "metadata": {},
   "source": [
    "<span style = 'color : red'>Improvement: revise the main message from the overall project<br></span>"
   ]
  },
  {
   "cell_type": "markdown",
   "id": "eed64de6",
   "metadata": {},
   "source": [
    "The main message of the project is that: <b>Characteristics of houses and income levels of households determine the housing prices, potential natural hazards like earthquake prevent housing prices increase even higher in urban areas. The number of startups also play an important role in determining the housing prices.  <b/>"
   ]
  },
  {
   "cell_type": "markdown",
   "id": "df3bd7ff",
   "metadata": {},
   "source": [
    "### Main Message Plots"
   ]
  },
  {
   "cell_type": "markdown",
   "id": "33f2b217",
   "metadata": {},
   "source": [
    "In this section, i will mainly introduce hover map to reveal the relationship between housing prices and income levels of households. To be more specific, households with higher income were living in the more urban areas where housing prices were relatively high. With the hover map, this help us to compare some details more clearly."
   ]
  },
  {
   "cell_type": "markdown",
   "id": "beb239db",
   "metadata": {},
   "source": [
    "<b>Pre-work for Visualization:<b/>"
   ]
  },
  {
   "cell_type": "markdown",
   "id": "bc987ffb",
   "metadata": {},
   "source": [
    "- Since the distribution of median housing values and income levels in California is my main focus, i want to choose a visualization that highlights this aspect of the data. hover map is one of the most effective ways to demonstrate the relationship of my variables. The x-axis is the longitude and y-axis is the latitude, each colored region represents the counties in California. I will then need to find a way to demonstrate different housing prices and income levels in each geographical locations, my natural solution is to demonstrate the each housing price and income level using different colors. And, to what extent the color approaches to red represents how higher the income level is, and darker blue color represents lower income level. With hover map, we can see housing price in every county."
   ]
  },
  {
   "cell_type": "markdown",
   "id": "7260af39",
   "metadata": {},
   "source": [
    "<span style = 'color : red'>Improvement: Using hover map instead of two scartterplots to represent the relationships between income levels and median housing values<br></span>"
   ]
  },
  {
   "cell_type": "code",
   "execution_count": 28,
   "id": "ca277c2f",
   "metadata": {
    "scrolled": false
   },
   "outputs": [
    {
     "data": {
      "text/html": [
       "\n",
       "    <div class=\"bk-root\">\n",
       "        <a href=\"https://bokeh.org\" target=\"_blank\" class=\"bk-logo bk-logo-small bk-logo-notebook\"></a>\n",
       "        <span id=\"1002\">Loading BokehJS ...</span>\n",
       "    </div>"
      ]
     },
     "metadata": {},
     "output_type": "display_data"
    },
    {
     "data": {
      "application/javascript": [
       "\n",
       "(function(root) {\n",
       "  function now() {\n",
       "    return new Date();\n",
       "  }\n",
       "\n",
       "  const force = true;\n",
       "\n",
       "  if (typeof root._bokeh_onload_callbacks === \"undefined\" || force === true) {\n",
       "    root._bokeh_onload_callbacks = [];\n",
       "    root._bokeh_is_loading = undefined;\n",
       "  }\n",
       "\n",
       "  const JS_MIME_TYPE = 'application/javascript';\n",
       "  const HTML_MIME_TYPE = 'text/html';\n",
       "  const EXEC_MIME_TYPE = 'application/vnd.bokehjs_exec.v0+json';\n",
       "  const CLASS_NAME = 'output_bokeh rendered_html';\n",
       "\n",
       "  /**\n",
       "   * Render data to the DOM node\n",
       "   */\n",
       "  function render(props, node) {\n",
       "    const script = document.createElement(\"script\");\n",
       "    node.appendChild(script);\n",
       "  }\n",
       "\n",
       "  /**\n",
       "   * Handle when an output is cleared or removed\n",
       "   */\n",
       "  function handleClearOutput(event, handle) {\n",
       "    const cell = handle.cell;\n",
       "\n",
       "    const id = cell.output_area._bokeh_element_id;\n",
       "    const server_id = cell.output_area._bokeh_server_id;\n",
       "    // Clean up Bokeh references\n",
       "    if (id != null && id in Bokeh.index) {\n",
       "      Bokeh.index[id].model.document.clear();\n",
       "      delete Bokeh.index[id];\n",
       "    }\n",
       "\n",
       "    if (server_id !== undefined) {\n",
       "      // Clean up Bokeh references\n",
       "      const cmd_clean = \"from bokeh.io.state import curstate; print(curstate().uuid_to_server['\" + server_id + \"'].get_sessions()[0].document.roots[0]._id)\";\n",
       "      cell.notebook.kernel.execute(cmd_clean, {\n",
       "        iopub: {\n",
       "          output: function(msg) {\n",
       "            const id = msg.content.text.trim();\n",
       "            if (id in Bokeh.index) {\n",
       "              Bokeh.index[id].model.document.clear();\n",
       "              delete Bokeh.index[id];\n",
       "            }\n",
       "          }\n",
       "        }\n",
       "      });\n",
       "      // Destroy server and session\n",
       "      const cmd_destroy = \"import bokeh.io.notebook as ion; ion.destroy_server('\" + server_id + \"')\";\n",
       "      cell.notebook.kernel.execute(cmd_destroy);\n",
       "    }\n",
       "  }\n",
       "\n",
       "  /**\n",
       "   * Handle when a new output is added\n",
       "   */\n",
       "  function handleAddOutput(event, handle) {\n",
       "    const output_area = handle.output_area;\n",
       "    const output = handle.output;\n",
       "\n",
       "    // limit handleAddOutput to display_data with EXEC_MIME_TYPE content only\n",
       "    if ((output.output_type != \"display_data\") || (!Object.prototype.hasOwnProperty.call(output.data, EXEC_MIME_TYPE))) {\n",
       "      return\n",
       "    }\n",
       "\n",
       "    const toinsert = output_area.element.find(\".\" + CLASS_NAME.split(' ')[0]);\n",
       "\n",
       "    if (output.metadata[EXEC_MIME_TYPE][\"id\"] !== undefined) {\n",
       "      toinsert[toinsert.length - 1].firstChild.textContent = output.data[JS_MIME_TYPE];\n",
       "      // store reference to embed id on output_area\n",
       "      output_area._bokeh_element_id = output.metadata[EXEC_MIME_TYPE][\"id\"];\n",
       "    }\n",
       "    if (output.metadata[EXEC_MIME_TYPE][\"server_id\"] !== undefined) {\n",
       "      const bk_div = document.createElement(\"div\");\n",
       "      bk_div.innerHTML = output.data[HTML_MIME_TYPE];\n",
       "      const script_attrs = bk_div.children[0].attributes;\n",
       "      for (let i = 0; i < script_attrs.length; i++) {\n",
       "        toinsert[toinsert.length - 1].firstChild.setAttribute(script_attrs[i].name, script_attrs[i].value);\n",
       "        toinsert[toinsert.length - 1].firstChild.textContent = bk_div.children[0].textContent\n",
       "      }\n",
       "      // store reference to server id on output_area\n",
       "      output_area._bokeh_server_id = output.metadata[EXEC_MIME_TYPE][\"server_id\"];\n",
       "    }\n",
       "  }\n",
       "\n",
       "  function register_renderer(events, OutputArea) {\n",
       "\n",
       "    function append_mime(data, metadata, element) {\n",
       "      // create a DOM node to render to\n",
       "      const toinsert = this.create_output_subarea(\n",
       "        metadata,\n",
       "        CLASS_NAME,\n",
       "        EXEC_MIME_TYPE\n",
       "      );\n",
       "      this.keyboard_manager.register_events(toinsert);\n",
       "      // Render to node\n",
       "      const props = {data: data, metadata: metadata[EXEC_MIME_TYPE]};\n",
       "      render(props, toinsert[toinsert.length - 1]);\n",
       "      element.append(toinsert);\n",
       "      return toinsert\n",
       "    }\n",
       "\n",
       "    /* Handle when an output is cleared or removed */\n",
       "    events.on('clear_output.CodeCell', handleClearOutput);\n",
       "    events.on('delete.Cell', handleClearOutput);\n",
       "\n",
       "    /* Handle when a new output is added */\n",
       "    events.on('output_added.OutputArea', handleAddOutput);\n",
       "\n",
       "    /**\n",
       "     * Register the mime type and append_mime function with output_area\n",
       "     */\n",
       "    OutputArea.prototype.register_mime_type(EXEC_MIME_TYPE, append_mime, {\n",
       "      /* Is output safe? */\n",
       "      safe: true,\n",
       "      /* Index of renderer in `output_area.display_order` */\n",
       "      index: 0\n",
       "    });\n",
       "  }\n",
       "\n",
       "  // register the mime type if in Jupyter Notebook environment and previously unregistered\n",
       "  if (root.Jupyter !== undefined) {\n",
       "    const events = require('base/js/events');\n",
       "    const OutputArea = require('notebook/js/outputarea').OutputArea;\n",
       "\n",
       "    if (OutputArea.prototype.mime_types().indexOf(EXEC_MIME_TYPE) == -1) {\n",
       "      register_renderer(events, OutputArea);\n",
       "    }\n",
       "  }\n",
       "\n",
       "  \n",
       "  if (typeof (root._bokeh_timeout) === \"undefined\" || force === true) {\n",
       "    root._bokeh_timeout = Date.now() + 5000;\n",
       "    root._bokeh_failed_load = false;\n",
       "  }\n",
       "\n",
       "  const NB_LOAD_WARNING = {'data': {'text/html':\n",
       "     \"<div style='background-color: #fdd'>\\n\"+\n",
       "     \"<p>\\n\"+\n",
       "     \"BokehJS does not appear to have successfully loaded. If loading BokehJS from CDN, this \\n\"+\n",
       "     \"may be due to a slow or bad network connection. Possible fixes:\\n\"+\n",
       "     \"</p>\\n\"+\n",
       "     \"<ul>\\n\"+\n",
       "     \"<li>re-rerun `output_notebook()` to attempt to load from CDN again, or</li>\\n\"+\n",
       "     \"<li>use INLINE resources instead, as so:</li>\\n\"+\n",
       "     \"</ul>\\n\"+\n",
       "     \"<code>\\n\"+\n",
       "     \"from bokeh.resources import INLINE\\n\"+\n",
       "     \"output_notebook(resources=INLINE)\\n\"+\n",
       "     \"</code>\\n\"+\n",
       "     \"</div>\"}};\n",
       "\n",
       "  function display_loaded() {\n",
       "    const el = document.getElementById(\"1002\");\n",
       "    if (el != null) {\n",
       "      el.textContent = \"BokehJS is loading...\";\n",
       "    }\n",
       "    if (root.Bokeh !== undefined) {\n",
       "      if (el != null) {\n",
       "        el.textContent = \"BokehJS \" + root.Bokeh.version + \" successfully loaded.\";\n",
       "      }\n",
       "    } else if (Date.now() < root._bokeh_timeout) {\n",
       "      setTimeout(display_loaded, 100)\n",
       "    }\n",
       "  }\n",
       "\n",
       "\n",
       "  function run_callbacks() {\n",
       "    try {\n",
       "      root._bokeh_onload_callbacks.forEach(function(callback) {\n",
       "        if (callback != null)\n",
       "          callback();\n",
       "      });\n",
       "    } finally {\n",
       "      delete root._bokeh_onload_callbacks\n",
       "    }\n",
       "    console.debug(\"Bokeh: all callbacks have finished\");\n",
       "  }\n",
       "\n",
       "  function load_libs(css_urls, js_urls, callback) {\n",
       "    if (css_urls == null) css_urls = [];\n",
       "    if (js_urls == null) js_urls = [];\n",
       "\n",
       "    root._bokeh_onload_callbacks.push(callback);\n",
       "    if (root._bokeh_is_loading > 0) {\n",
       "      console.debug(\"Bokeh: BokehJS is being loaded, scheduling callback at\", now());\n",
       "      return null;\n",
       "    }\n",
       "    if (js_urls == null || js_urls.length === 0) {\n",
       "      run_callbacks();\n",
       "      return null;\n",
       "    }\n",
       "    console.debug(\"Bokeh: BokehJS not loaded, scheduling load and callback at\", now());\n",
       "    root._bokeh_is_loading = css_urls.length + js_urls.length;\n",
       "\n",
       "    function on_load() {\n",
       "      root._bokeh_is_loading--;\n",
       "      if (root._bokeh_is_loading === 0) {\n",
       "        console.debug(\"Bokeh: all BokehJS libraries/stylesheets loaded\");\n",
       "        run_callbacks()\n",
       "      }\n",
       "    }\n",
       "\n",
       "    function on_error(url) {\n",
       "      console.error(\"failed to load \" + url);\n",
       "    }\n",
       "\n",
       "    for (let i = 0; i < css_urls.length; i++) {\n",
       "      const url = css_urls[i];\n",
       "      const element = document.createElement(\"link\");\n",
       "      element.onload = on_load;\n",
       "      element.onerror = on_error.bind(null, url);\n",
       "      element.rel = \"stylesheet\";\n",
       "      element.type = \"text/css\";\n",
       "      element.href = url;\n",
       "      console.debug(\"Bokeh: injecting link tag for BokehJS stylesheet: \", url);\n",
       "      document.body.appendChild(element);\n",
       "    }\n",
       "\n",
       "    for (let i = 0; i < js_urls.length; i++) {\n",
       "      const url = js_urls[i];\n",
       "      const element = document.createElement('script');\n",
       "      element.onload = on_load;\n",
       "      element.onerror = on_error.bind(null, url);\n",
       "      element.async = false;\n",
       "      element.src = url;\n",
       "      console.debug(\"Bokeh: injecting script tag for BokehJS library: \", url);\n",
       "      document.head.appendChild(element);\n",
       "    }\n",
       "  };\n",
       "\n",
       "  function inject_raw_css(css) {\n",
       "    const element = document.createElement(\"style\");\n",
       "    element.appendChild(document.createTextNode(css));\n",
       "    document.body.appendChild(element);\n",
       "  }\n",
       "\n",
       "  \n",
       "  const js_urls = [\"https://cdn.bokeh.org/bokeh/release/bokeh-2.4.2.min.js\", \"https://cdn.bokeh.org/bokeh/release/bokeh-gl-2.4.2.min.js\", \"https://cdn.bokeh.org/bokeh/release/bokeh-widgets-2.4.2.min.js\", \"https://cdn.bokeh.org/bokeh/release/bokeh-tables-2.4.2.min.js\", \"https://cdn.bokeh.org/bokeh/release/bokeh-mathjax-2.4.2.min.js\"];\n",
       "  const css_urls = [];\n",
       "  \n",
       "\n",
       "  const inline_js = [\n",
       "    function(Bokeh) {\n",
       "      Bokeh.set_log_level(\"info\");\n",
       "    },\n",
       "    function(Bokeh) {\n",
       "    \n",
       "    \n",
       "    }\n",
       "  ];\n",
       "\n",
       "  function run_inline_js() {\n",
       "    \n",
       "    if (root.Bokeh !== undefined || force === true) {\n",
       "      \n",
       "    for (let i = 0; i < inline_js.length; i++) {\n",
       "      inline_js[i].call(root, root.Bokeh);\n",
       "    }\n",
       "    if (force === true) {\n",
       "        display_loaded();\n",
       "      }} else if (Date.now() < root._bokeh_timeout) {\n",
       "      setTimeout(run_inline_js, 100);\n",
       "    } else if (!root._bokeh_failed_load) {\n",
       "      console.log(\"Bokeh: BokehJS failed to load within specified timeout.\");\n",
       "      root._bokeh_failed_load = true;\n",
       "    } else if (force !== true) {\n",
       "      const cell = $(document.getElementById(\"1002\")).parents('.cell').data().cell;\n",
       "      cell.output_area.append_execute_result(NB_LOAD_WARNING)\n",
       "    }\n",
       "\n",
       "  }\n",
       "\n",
       "  if (root._bokeh_is_loading === 0) {\n",
       "    console.debug(\"Bokeh: BokehJS loaded, going straight to plotting\");\n",
       "    run_inline_js();\n",
       "  } else {\n",
       "    load_libs(css_urls, js_urls, function() {\n",
       "      console.debug(\"Bokeh: BokehJS plotting callback run at\", now());\n",
       "      run_inline_js();\n",
       "    });\n",
       "  }\n",
       "}(window));"
      ],
      "application/vnd.bokehjs_load.v0+json": "\n(function(root) {\n  function now() {\n    return new Date();\n  }\n\n  const force = true;\n\n  if (typeof root._bokeh_onload_callbacks === \"undefined\" || force === true) {\n    root._bokeh_onload_callbacks = [];\n    root._bokeh_is_loading = undefined;\n  }\n\n  \n\n  \n  if (typeof (root._bokeh_timeout) === \"undefined\" || force === true) {\n    root._bokeh_timeout = Date.now() + 5000;\n    root._bokeh_failed_load = false;\n  }\n\n  const NB_LOAD_WARNING = {'data': {'text/html':\n     \"<div style='background-color: #fdd'>\\n\"+\n     \"<p>\\n\"+\n     \"BokehJS does not appear to have successfully loaded. If loading BokehJS from CDN, this \\n\"+\n     \"may be due to a slow or bad network connection. Possible fixes:\\n\"+\n     \"</p>\\n\"+\n     \"<ul>\\n\"+\n     \"<li>re-rerun `output_notebook()` to attempt to load from CDN again, or</li>\\n\"+\n     \"<li>use INLINE resources instead, as so:</li>\\n\"+\n     \"</ul>\\n\"+\n     \"<code>\\n\"+\n     \"from bokeh.resources import INLINE\\n\"+\n     \"output_notebook(resources=INLINE)\\n\"+\n     \"</code>\\n\"+\n     \"</div>\"}};\n\n  function display_loaded() {\n    const el = document.getElementById(\"1002\");\n    if (el != null) {\n      el.textContent = \"BokehJS is loading...\";\n    }\n    if (root.Bokeh !== undefined) {\n      if (el != null) {\n        el.textContent = \"BokehJS \" + root.Bokeh.version + \" successfully loaded.\";\n      }\n    } else if (Date.now() < root._bokeh_timeout) {\n      setTimeout(display_loaded, 100)\n    }\n  }\n\n\n  function run_callbacks() {\n    try {\n      root._bokeh_onload_callbacks.forEach(function(callback) {\n        if (callback != null)\n          callback();\n      });\n    } finally {\n      delete root._bokeh_onload_callbacks\n    }\n    console.debug(\"Bokeh: all callbacks have finished\");\n  }\n\n  function load_libs(css_urls, js_urls, callback) {\n    if (css_urls == null) css_urls = [];\n    if (js_urls == null) js_urls = [];\n\n    root._bokeh_onload_callbacks.push(callback);\n    if (root._bokeh_is_loading > 0) {\n      console.debug(\"Bokeh: BokehJS is being loaded, scheduling callback at\", now());\n      return null;\n    }\n    if (js_urls == null || js_urls.length === 0) {\n      run_callbacks();\n      return null;\n    }\n    console.debug(\"Bokeh: BokehJS not loaded, scheduling load and callback at\", now());\n    root._bokeh_is_loading = css_urls.length + js_urls.length;\n\n    function on_load() {\n      root._bokeh_is_loading--;\n      if (root._bokeh_is_loading === 0) {\n        console.debug(\"Bokeh: all BokehJS libraries/stylesheets loaded\");\n        run_callbacks()\n      }\n    }\n\n    function on_error(url) {\n      console.error(\"failed to load \" + url);\n    }\n\n    for (let i = 0; i < css_urls.length; i++) {\n      const url = css_urls[i];\n      const element = document.createElement(\"link\");\n      element.onload = on_load;\n      element.onerror = on_error.bind(null, url);\n      element.rel = \"stylesheet\";\n      element.type = \"text/css\";\n      element.href = url;\n      console.debug(\"Bokeh: injecting link tag for BokehJS stylesheet: \", url);\n      document.body.appendChild(element);\n    }\n\n    for (let i = 0; i < js_urls.length; i++) {\n      const url = js_urls[i];\n      const element = document.createElement('script');\n      element.onload = on_load;\n      element.onerror = on_error.bind(null, url);\n      element.async = false;\n      element.src = url;\n      console.debug(\"Bokeh: injecting script tag for BokehJS library: \", url);\n      document.head.appendChild(element);\n    }\n  };\n\n  function inject_raw_css(css) {\n    const element = document.createElement(\"style\");\n    element.appendChild(document.createTextNode(css));\n    document.body.appendChild(element);\n  }\n\n  \n  const js_urls = [\"https://cdn.bokeh.org/bokeh/release/bokeh-2.4.2.min.js\", \"https://cdn.bokeh.org/bokeh/release/bokeh-gl-2.4.2.min.js\", \"https://cdn.bokeh.org/bokeh/release/bokeh-widgets-2.4.2.min.js\", \"https://cdn.bokeh.org/bokeh/release/bokeh-tables-2.4.2.min.js\", \"https://cdn.bokeh.org/bokeh/release/bokeh-mathjax-2.4.2.min.js\"];\n  const css_urls = [];\n  \n\n  const inline_js = [\n    function(Bokeh) {\n      Bokeh.set_log_level(\"info\");\n    },\n    function(Bokeh) {\n    \n    \n    }\n  ];\n\n  function run_inline_js() {\n    \n    if (root.Bokeh !== undefined || force === true) {\n      \n    for (let i = 0; i < inline_js.length; i++) {\n      inline_js[i].call(root, root.Bokeh);\n    }\n    if (force === true) {\n        display_loaded();\n      }} else if (Date.now() < root._bokeh_timeout) {\n      setTimeout(run_inline_js, 100);\n    } else if (!root._bokeh_failed_load) {\n      console.log(\"Bokeh: BokehJS failed to load within specified timeout.\");\n      root._bokeh_failed_load = true;\n    } else if (force !== true) {\n      const cell = $(document.getElementById(\"1002\")).parents('.cell').data().cell;\n      cell.output_area.append_execute_result(NB_LOAD_WARNING)\n    }\n\n  }\n\n  if (root._bokeh_is_loading === 0) {\n    console.debug(\"Bokeh: BokehJS loaded, going straight to plotting\");\n    run_inline_js();\n  } else {\n    load_libs(css_urls, js_urls, function() {\n      console.debug(\"Bokeh: BokehJS plotting callback run at\", now());\n      run_inline_js();\n    });\n  }\n}(window));"
     },
     "metadata": {},
     "output_type": "display_data"
    },
    {
     "ename": "NameError",
     "evalue": "name 'df8' is not defined",
     "output_type": "error",
     "traceback": [
      "\u001b[0;31m---------------------------------------------------------------------------\u001b[0m",
      "\u001b[0;31mNameError\u001b[0m                                 Traceback (most recent call last)",
      "Input \u001b[0;32mIn [28]\u001b[0m, in \u001b[0;36m<cell line: 12>\u001b[0;34m()\u001b[0m\n\u001b[1;32m      8\u001b[0m output_notebook()\n\u001b[1;32m      9\u001b[0m \u001b[38;5;28;01mimport\u001b[39;00m \u001b[38;5;21;01mjson\u001b[39;00m\n\u001b[0;32m---> 12\u001b[0m wi_geojson\u001b[38;5;241m=\u001b[39mGeoJSONDataSource(geojson\u001b[38;5;241m=\u001b[39m\u001b[43mdf8\u001b[49m\u001b[38;5;241m.\u001b[39mto_json())\n\u001b[1;32m     13\u001b[0m color_mapper \u001b[38;5;241m=\u001b[39m LinearColorMapper(palette \u001b[38;5;241m=\u001b[39m Spectral6, low \u001b[38;5;241m=\u001b[39m \u001b[38;5;241m2.007337\u001b[39m, high \u001b[38;5;241m=\u001b[39m  \u001b[38;5;241m5.435702\u001b[39m)\n\u001b[1;32m     14\u001b[0m color_bar \u001b[38;5;241m=\u001b[39m ColorBar(color_mapper\u001b[38;5;241m=\u001b[39mcolor_mapper, label_standoff\u001b[38;5;241m=\u001b[39m\u001b[38;5;241m8\u001b[39m,width \u001b[38;5;241m=\u001b[39m \u001b[38;5;241m500\u001b[39m, height \u001b[38;5;241m=\u001b[39m \u001b[38;5;241m20\u001b[39m,\n\u001b[1;32m     15\u001b[0m                      border_line_color\u001b[38;5;241m=\u001b[39m\u001b[38;5;28;01mNone\u001b[39;00m,location \u001b[38;5;241m=\u001b[39m (\u001b[38;5;241m0\u001b[39m,\u001b[38;5;241m0\u001b[39m), orientation \u001b[38;5;241m=\u001b[39m \u001b[38;5;124m'\u001b[39m\u001b[38;5;124mhorizontal\u001b[39m\u001b[38;5;124m'\u001b[39m)\n",
      "\u001b[0;31mNameError\u001b[0m: name 'df8' is not defined"
     ]
    }
   ],
   "source": [
    "from bokeh.io import output_notebook\n",
    "from bokeh.plotting import figure, ColumnDataSource\n",
    "from bokeh.io import output_notebook, show, output_file\n",
    "from bokeh.plotting import figure\n",
    "from bokeh.models import GeoJSONDataSource, LinearColorMapper, ColorBar, HoverTool\n",
    "from bokeh.palettes import brewer\n",
    "from bokeh.palettes import brewer, Spectral6\n",
    "output_notebook()\n",
    "import json\n",
    "\n",
    "\n",
    "#wi_geojson=GeoJSONDataSource(geojson=df8.to_json())\n",
    "#color_mapper = LinearColorMapper(palette = Spectral6, low = 2.007337, high =  5.435702)\n",
    "#color_bar = ColorBar(color_mapper=color_mapper, label_standoff=8,width = 500, height = 20,\n",
    "#                     border_line_color=None,location = (0,0), orientation = 'horizontal')\n",
    "#hover = HoverTool(tooltips = [ ('County','@NAME'),('Median Income', '@median_income'),('median_house_value', '@median_house_value')])\n",
    "#p = figure(title=\"Distribution of median income for each county in California\", tools=[hover])\n",
    "#p.patches(\"xs\",\"ys\",source=wi_geojson,\n",
    "#          fill_color = {'field' :'median_income', 'transform' : color_mapper})\n",
    "#p.add_layout(color_bar, 'below')\n",
    "#show(p)"
   ]
  },
  {
   "cell_type": "markdown",
   "id": "4d1860d2",
   "metadata": {},
   "source": [
    "- I included the median income level in tens of thousands US Dollars "
   ]
  },
  {
   "cell_type": "markdown",
   "id": "36e6d7ff",
   "metadata": {},
   "source": [
    "<b>Interpretations:<b/>"
   ]
  },
  {
   "cell_type": "markdown",
   "id": "9ae07b64",
   "metadata": {},
   "source": [
    "  - From previous summary statistics, the mean median housing price was 206855.816909 US Dollars. When i divided the total map(total blocks in California) into two groups, i will call the regions with housing prices above 206855.816909 US Dollars as the more urban areas, and the rest as the not relatively urban. Then we will see that most of the regions were not relatively urban, housing prices were below average, and they were typically located on the inland. Some of households were urban and comfortable to live, housing prices were above average, they were typically near the ocean. To see the distribution of housing values with respective to ocean_proximity, i will present maps in <b> next part<b/>."
   ]
  },
  {
   "cell_type": "markdown",
   "id": "505465ad",
   "metadata": {},
   "source": [
    "  - From previous summary statistics, the mean median income level was 3.870671 tens of thousands of US Dollars. When i divided the general map(total blocks in California) into two groups, i will call the households with incomes above 3.870671 tens of thousands of US Dollars as the rich, and the rest as the not rich. Then we will see that most of the households had income below averages, represented in blue, and they were typically located on the inland. Very few of the households were rich, represented in red, they were typically near the ocean. To see the distribution of housing values with respective to ocean_proximity, i will present maps in <b> next part<b/>.\n",
    " "
   ]
  },
  {
   "cell_type": "markdown",
   "id": "9406ead3",
   "metadata": {},
   "source": [
    "- To summarize these two scatterplots, we can definitely have an intuition and observation when we see the values in the hover map. With the same latitude(37) and longitude(-122) in the axes, we can see that regions near that area were in red, which means that both income levels and housing prices were above average and higher. In other words, households with higher income levels will purchase more expensive houses."
   ]
  },
  {
   "cell_type": "markdown",
   "id": "f12e8173",
   "metadata": {},
   "source": [
    "- The counties with high income levels and high housing prices are Marin, San Mateo, Santa Clara, Ventura, Orange. These findings will be useful in project Three."
   ]
  },
  {
   "cell_type": "markdown",
   "id": "bcdb086a",
   "metadata": {},
   "source": [
    "## Map Visualization"
   ]
  },
  {
   "cell_type": "markdown",
   "id": "2cc01be4",
   "metadata": {},
   "source": [
    "In this part, i will firstly introduce my external data, then merging the external data with my own dataset(housing dataset). After that, i will get the map of California, then present the distribution of median housing prices, population and income levels with interesting maps to better express my main message. "
   ]
  },
  {
   "cell_type": "markdown",
   "id": "9fe7e555",
   "metadata": {},
   "source": [
    "I also find other datasets. One about the business startups in US is from the kaggle(https://www.kaggle.com/datasets/justinas/startup-investments) and the other one is about the population growth rate from 2010 and 2022 from this website(https://worldpopulationreview.com/us-counties/states/ca)"
   ]
  },
  {
   "cell_type": "markdown",
   "id": "094fd56c",
   "metadata": {},
   "source": [
    "In this part, i will also map the distribution of the number of startups in different counties in California in 21 century, as well as the income levels and housing prices at those regions with the business startups."
   ]
  },
  {
   "cell_type": "markdown",
   "id": "583d61e8",
   "metadata": {},
   "source": [
    "### Reading data"
   ]
  },
  {
   "cell_type": "markdown",
   "id": "25e9333c",
   "metadata": {},
   "source": [
    "<span style = 'color : red'>Improvement: I suppressed and deleted all the redundant and unnecessary outputs and parts of my code<br></span>"
   ]
  },
  {
   "cell_type": "markdown",
   "id": "f5d762d0",
   "metadata": {},
   "source": [
    "When i tried to get the map of California, i thought it was better to map the cities in California rather than only a frame or structure of California, so i searched for external datasets. I put the links for my external dataset at the end of my project. I Mainly got two external datasets, first one is from US Census’s website, where i can get the map for each state and each county in United States. The second one is the latitudes and longitudes of all the cities in California."
   ]
  },
  {
   "cell_type": "code",
   "execution_count": 29,
   "id": "3ca1c540",
   "metadata": {},
   "outputs": [
    {
     "ename": "NameError",
     "evalue": "name 'gpd' is not defined",
     "output_type": "error",
     "traceback": [
      "\u001b[0;31m---------------------------------------------------------------------------\u001b[0m",
      "\u001b[0;31mNameError\u001b[0m                                 Traceback (most recent call last)",
      "Input \u001b[0;32mIn [29]\u001b[0m, in \u001b[0;36m<cell line: 2>\u001b[0;34m()\u001b[0m\n\u001b[1;32m      1\u001b[0m \u001b[38;5;66;03m# Dataset from US census website, about the boundries of each state and county in United States.\u001b[39;00m\n\u001b[0;32m----> 2\u001b[0m state_df \u001b[38;5;241m=\u001b[39m \u001b[43mgpd\u001b[49m\u001b[38;5;241m.\u001b[39mread_file(\u001b[38;5;124m\"\u001b[39m\u001b[38;5;124mhttp://www2.census.gov/geo/tiger/GENZ2016/shp/cb_2016_us_state_5m.zip\u001b[39m\u001b[38;5;124m\"\u001b[39m)\n\u001b[1;32m      3\u001b[0m \u001b[38;5;66;03m# state_df is about the geographical locations of each state in California, i will find the code for California \u001b[39;00m\n\u001b[1;32m      4\u001b[0m \u001b[38;5;66;03m# and get the general map of California\u001b[39;00m\n\u001b[1;32m      5\u001b[0m county_df \u001b[38;5;241m=\u001b[39m gpd\u001b[38;5;241m.\u001b[39mread_file(\u001b[38;5;124m\"\u001b[39m\u001b[38;5;124mhttp://www2.census.gov/geo/tiger/GENZ2016/shp/cb_2016_us_county_5m.zip\u001b[39m\u001b[38;5;124m\"\u001b[39m)\n",
      "\u001b[0;31mNameError\u001b[0m: name 'gpd' is not defined"
     ]
    }
   ],
   "source": [
    "# Dataset from US census website, about the boundries of each state and county in United States.\n",
    "state_df = gpd.read_file(\"http://www2.census.gov/geo/tiger/GENZ2016/shp/cb_2016_us_state_5m.zip\")\n",
    "# state_df is about the geographical locations of each state in California, i will find the code for California \n",
    "# and get the general map of California\n",
    "county_df = gpd.read_file(\"http://www2.census.gov/geo/tiger/GENZ2016/shp/cb_2016_us_county_5m.zip\")\n",
    "#county_df is about the shapefiles of each counties in Calfironia, i can show the boundaries in California and plot \n",
    "# the exact structure of counties with this dataset.\n",
    "\n",
    "\n",
    "CA_city = gpd.read_file('cal_cities_lat_long.csv')\n",
    "# Dataset from Kaggle \n",
    "#(https://www.kaggle.com/camnugent/california-housing-feature-engineering?select=cal_populations_county.csv)\n",
    "# About the latitudes and longitudes of all the cities in California."
   ]
  },
  {
   "cell_type": "markdown",
   "id": "28231299",
   "metadata": {},
   "source": [
    "There i noticed that the type of longitude and latitude in CA_city is object, i will need to covert them into numerical variables."
   ]
  },
  {
   "cell_type": "markdown",
   "id": "34d219e7",
   "metadata": {},
   "source": [
    "There are no missing values for my state_df and county_df."
   ]
  },
  {
   "cell_type": "markdown",
   "id": "262e24cd",
   "metadata": {},
   "source": [
    "There i noticed i have 459 missing values for geometry in CA_city, but i will not need 'geometry' variable."
   ]
  },
  {
   "cell_type": "markdown",
   "id": "696f693a",
   "metadata": {},
   "source": [
    "### clean Data"
   ]
  },
  {
   "cell_type": "code",
   "execution_count": null,
   "id": "4f6d00cf",
   "metadata": {},
   "outputs": [],
   "source": [
    "# Convert the type of latitude and longitude variables into numerical.\n",
    "CA_city['Latitude'] = pd.to_numeric(CA_city['Latitude'])\n",
    "CA_city['Longitude'] = pd.to_numeric(CA_city['Longitude'])"
   ]
  },
  {
   "cell_type": "markdown",
   "id": "30242cd7",
   "metadata": {},
   "source": [
    "I will transform the city data frame to a geo data frame"
   ]
  },
  {
   "cell_type": "code",
   "execution_count": null,
   "id": "9951ba23",
   "metadata": {},
   "outputs": [],
   "source": [
    "CA_city[\"Coordinates\"] = list(zip(CA_city.Longitude, CA_city.Latitude))\n",
    "CA_city[\"Coordinates\"] = CA_city[\"Coordinates\"].apply(Point)"
   ]
  },
  {
   "cell_type": "markdown",
   "id": "9ddae3b7",
   "metadata": {},
   "source": [
    "Below, we will be working with the state of California's shapefile (county_df) and will try to merge in a data that only has long,lat for some cities and no county information (CA_cities) using our overlay method. then, using the EPSG number, we can create a GeoDataFrame and then easily merge it to our shapefile."
   ]
  },
  {
   "cell_type": "code",
   "execution_count": null,
   "id": "7b790a71",
   "metadata": {
    "scrolled": true
   },
   "outputs": [],
   "source": [
    "CA_city_gdf = gpd.GeoDataFrame(CA_city, crs = 4269, geometry=\"Coordinates\") \n",
    "county_df = gpd.read_file(\"http://www2.census.gov/geo/tiger/GENZ2016/shp/cb_2016_us_county_5m.zip\")\n",
    "CA_county = county_df.query(\"STATEFP == '06'\")"
   ]
  },
  {
   "cell_type": "markdown",
   "id": "ae76aa51",
   "metadata": {},
   "source": [
    "After that, merging the CA_city_gdf and CA_county"
   ]
  },
  {
   "cell_type": "code",
   "execution_count": null,
   "id": "b142e291",
   "metadata": {
    "scrolled": false
   },
   "outputs": [],
   "source": [
    "#City_County_merge1 = gpd.sjoin(CA_city_gdf, CA_county, op=\"within\")\n",
    "#City_County_merge1"
   ]
  },
  {
   "cell_type": "markdown",
   "id": "b45a4357",
   "metadata": {},
   "source": [
    "Now we have longitudes and latitudes for each city in California"
   ]
  },
  {
   "cell_type": "markdown",
   "id": "00714ab0",
   "metadata": {},
   "source": [
    "Below, i merge the CA_county with my original dataset from project one."
   ]
  },
  {
   "cell_type": "code",
   "execution_count": null,
   "id": "c4c17430",
   "metadata": {
    "scrolled": true
   },
   "outputs": [],
   "source": [
    "df[\"Coordinates\"] = list(zip(df.longitude, df.latitude))\n",
    "df[\"Coordinates\"] = df[\"Coordinates\"].apply(Point)\n",
    "df_gdf = gpd.GeoDataFrame(df, crs = 4269, geometry = \"Coordinates\")\n",
    "df_merge = gpd.sjoin(df_gdf, CA_county, op = \"within\")"
   ]
  },
  {
   "cell_type": "markdown",
   "id": "4281f5f8",
   "metadata": {},
   "source": [
    "Since my focus is the distribution of income levels and population, so i will merge with county_df with these two variables added."
   ]
  },
  {
   "cell_type": "markdown",
   "id": "9fe993a3",
   "metadata": {},
   "source": [
    "I create a dataframe called df7 to get the information about the name of counties, median income level , population and median housing prices in each county"
   ]
  },
  {
   "cell_type": "code",
   "execution_count": null,
   "id": "4c0af7cb",
   "metadata": {
    "scrolled": false
   },
   "outputs": [],
   "source": [
    "df7 = df_merge[[\"NAME\",\"median_income\",\"population\",\"median_house_value\"]].groupby(\"NAME\").mean()"
   ]
  },
  {
   "cell_type": "code",
   "execution_count": null,
   "id": "40f0c868",
   "metadata": {
    "scrolled": false
   },
   "outputs": [],
   "source": [
    "df8 = county_df.merge(df7, left_on=\"NAME\", right_on=\"NAME\", how=\"inner\")"
   ]
  },
  {
   "cell_type": "markdown",
   "id": "20ec6304",
   "metadata": {},
   "source": [
    "I create a dataframe to store the infomation of the information about the name of counties, median income level , population and median housing prices in each county, and with the geometry of each county, i can plot the map with this dataframe"
   ]
  },
  {
   "cell_type": "markdown",
   "id": "823237b8",
   "metadata": {},
   "source": [
    "From two information above, it shows that i merged the datasets successfully. Since there are 58 counties in California, and we got the information about the average population, average median income and median housing prices in each county."
   ]
  },
  {
   "cell_type": "markdown",
   "id": "2b58f984",
   "metadata": {},
   "source": [
    "##### Next, i want to go to the mapping part"
   ]
  },
  {
   "cell_type": "markdown",
   "id": "c2831edf",
   "metadata": {},
   "source": [
    "To map the distribution of income levels, population and housing prices across the California, we can first get an overview about the general map of California. So that we can compare the distribution map with the actual California map to see if we make any mistakes, like the wrong latitudes and longitudes."
   ]
  },
  {
   "cell_type": "code",
   "execution_count": 30,
   "id": "b4a78a18",
   "metadata": {
    "scrolled": false
   },
   "outputs": [
    {
     "ename": "NameError",
     "evalue": "name 'gpd' is not defined",
     "output_type": "error",
     "traceback": [
      "\u001b[0;31m---------------------------------------------------------------------------\u001b[0m",
      "\u001b[0;31mNameError\u001b[0m                                 Traceback (most recent call last)",
      "Input \u001b[0;32mIn [30]\u001b[0m, in \u001b[0;36m<cell line: 1>\u001b[0;34m()\u001b[0m\n\u001b[0;32m----> 1\u001b[0m state_df \u001b[38;5;241m=\u001b[39m \u001b[43mgpd\u001b[49m\u001b[38;5;241m.\u001b[39mread_file(\u001b[38;5;124m\"\u001b[39m\u001b[38;5;124mhttp://www2.census.gov/geo/tiger/GENZ2016/shp/cb_2016_us_state_5m.zip\u001b[39m\u001b[38;5;124m\"\u001b[39m)\n\u001b[1;32m      3\u001b[0m county_df \u001b[38;5;241m=\u001b[39m gpd\u001b[38;5;241m.\u001b[39mread_file(\u001b[38;5;124m\"\u001b[39m\u001b[38;5;124mhttp://www2.census.gov/geo/tiger/GENZ2016/shp/cb_2016_us_county_5m.zip\u001b[39m\u001b[38;5;124m\"\u001b[39m)\n\u001b[1;32m      4\u001b[0m county_df \u001b[38;5;241m=\u001b[39m county_df\u001b[38;5;241m.\u001b[39mquery(\u001b[38;5;124m\"\u001b[39m\u001b[38;5;124mSTATEFP == \u001b[39m\u001b[38;5;124m'\u001b[39m\u001b[38;5;124m06\u001b[39m\u001b[38;5;124m'\u001b[39m\u001b[38;5;124m\"\u001b[39m)\n",
      "\u001b[0;31mNameError\u001b[0m: name 'gpd' is not defined"
     ]
    }
   ],
   "source": [
    "state_df = gpd.read_file(\"http://www2.census.gov/geo/tiger/GENZ2016/shp/cb_2016_us_state_5m.zip\")\n",
    "\n",
    "county_df = gpd.read_file(\"http://www2.census.gov/geo/tiger/GENZ2016/shp/cb_2016_us_county_5m.zip\")\n",
    "county_df = county_df.query(\"STATEFP == '06'\")\n",
    "fig, gax = plt.subplots(figsize=(10, 10))\n",
    "\n",
    "state_df.query(\"NAME == 'California'\").plot(ax=gax, edgecolor=\"black\", color=\"white\")\n",
    "county_df.plot(ax=gax, edgecolor=\"black\", color=\"white\")\n",
    "\n",
    "#for x, y, label in zip(City_County_merge1['Coordinates'].x, City_County_merge1['Coordinates'].y, City_County_merge1['Name']):\n",
    "#    gax.annotate(label, xy=(x,y), xytext=(4,4), textcoords='offset points')\n",
    "plt.show()"
   ]
  },
  {
   "cell_type": "markdown",
   "id": "6f9d3aaa",
   "metadata": {},
   "source": [
    "Nice! we got the general map of California, so all the maps we get to map later, we can check with this map to see if there are any mistakes of the structure."
   ]
  },
  {
   "cell_type": "markdown",
   "id": "48903e11",
   "metadata": {},
   "source": [
    "Now, we can plot the map with indications of income levels for each counties in California"
   ]
  },
  {
   "cell_type": "code",
   "execution_count": null,
   "id": "4a085cb3",
   "metadata": {},
   "outputs": [],
   "source": [
    "df8 = county_df.merge(df7, left_on=\"NAME\", right_on=\"NAME\", how=\"inner\")\n",
    "fig, gax = plt.subplots(figsize = (10,10))\n",
    "\n",
    "state_df[state_df['NAME'] == 'California'].plot(ax=gax, edgecolor=\"black\", color=\"white\")\n",
    "\n",
    "df8.plot(\n",
    "    ax=gax, edgecolor='black', column='median_house_value', legend=True, cmap='RdBu_r',\n",
    "    vmin=51000, vmax=360000\n",
    ")\n",
    "\n",
    "# Add text to let people know what we are plotting\n",
    "gax.annotate('Housevalue',xy=(0.68, 0.06),  xycoords='figure fraction')\n",
    "\n",
    "plt.axis('on')\n",
    "\n",
    "plt.show()"
   ]
  },
  {
   "cell_type": "markdown",
   "id": "88c6dfba",
   "metadata": {},
   "source": [
    "- From the map above, we can clearly see that housing prices were really high when households lived near the ocean, especially with latitude 38 longitude -122, and latitude 34 longitude -118.\n",
    "- This is <b>consistent</b> with my previous findings in project one, Housing prices were the highest on island, and lowest on inland. Starting from inland areas, it got more expensive when near the ocean."
   ]
  },
  {
   "cell_type": "code",
   "execution_count": null,
   "id": "f6a4ee5a",
   "metadata": {},
   "outputs": [],
   "source": [
    "# county_df data cleaning\n",
    "county_df[\"NAME\"] = county_df[\"NAME\"].str.title()\n",
    "county_df[\"NAME\"] = county_df[\"NAME\"].str.strip()"
   ]
  },
  {
   "cell_type": "markdown",
   "id": "1ff2adb0",
   "metadata": {},
   "source": [
    "Now we can see the demographical features of each county.And compare the distribution of housing prices based on the comparisons about population"
   ]
  },
  {
   "cell_type": "code",
   "execution_count": null,
   "id": "27022e43",
   "metadata": {
    "scrolled": false
   },
   "outputs": [],
   "source": [
    "# Plotting map for distribution of population\n",
    "df8 = county_df.merge(df7, left_on=\"NAME\", right_on=\"NAME\", how=\"inner\")\n",
    "fig, gax = plt.subplots(figsize = (10,10))\n",
    "\n",
    "state_df[state_df['NAME'] == 'California'].plot(ax=gax, edgecolor=\"black\", color=\"white\")\n",
    "\n",
    "df8.plot(\n",
    "    ax=gax, edgecolor='black', column='population', legend=True, cmap='RdBu_r',\n",
    "    vmin=371.000000, vmax=1977.528912\n",
    ")\n",
    "\n",
    "# Add text to let people know what we are plotting\n",
    "gax.annotate('population',xy=(0.68, 0.06),  xycoords='figure fraction')\n",
    "\n",
    "plt.axis('on')\n",
    "\n",
    "plt.show()"
   ]
  },
  {
   "cell_type": "markdown",
   "id": "7e9b9c76",
   "metadata": {},
   "source": [
    "- Population is one of my important independent variables, so i created a map for the distribution of mean population in each county in California\n",
    "- This dataframe summarizes total number of houses in different areas in California, among which the number of houses living 1 hour less than ocean was the highest, accounting for 9136.\n",
    "- The south part of Calfifornia was more crowded, and it got even more crowded when the location is closer to the ocean."
   ]
  },
  {
   "cell_type": "markdown",
   "id": "8deb962c",
   "metadata": {},
   "source": [
    "###  This is consistent with my previous findings:"
   ]
  },
  {
   "cell_type": "markdown",
   "id": "04b77132",
   "metadata": {},
   "source": [
    "- First of all, the county which has color closer to red, it represents higher income levels, higher population and higher housing prices. And county with lower income levels, lower population and lower housing prices were represented in blue.\n",
    "- To compare the two maps above and one hover map at the beginning of Project 2, we can see that the regions at latitude 38 longitude -122 and latitude 34 longitude -118 had the highest income levels compared with other regions. The same pattern can be applied with the distribution of housing prices and population density. \n",
    "- Besides, income levels got higher when it was closer to the ocean. The economic intuitions behind this are: Firstly, it's about people's preferences, people with higher income levels prefered to live near the ocean either in the old times or recent years. They will also have to pay more expensive housing prices, but they might find those are the comfortable places for them. Secondly, a large number of people choose to live about one hour less than the ocean, they have decent wages and they will pay relatively less housing prices.\n",
    "- Some interesting points: As we know, Orange, Santa Clara, Marin, San Mateo and Los Angeles counties are very urban and popular in United States, from the map, we can see the income levels and housing prices were high, even nowadays. This indicates that people with higher income levels have higher expectations about their lifestyles, so they would choose to live in these urban areas with high cost."
   ]
  },
  {
   "cell_type": "markdown",
   "id": "fc1938f9",
   "metadata": {},
   "source": [
    "###  Some further analysis:"
   ]
  },
  {
   "cell_type": "markdown",
   "id": "1d88ab47",
   "metadata": {},
   "source": [
    "- What i have done so far was finding the relationships between the income levels and housing prices, we can indeed intuitively get the idea that higher income levels anticipate hihger housing prices, and houses valued more when they were closer to the ocean. And in this paper, there it supported our intuitive ideas with valid data analysis and proof.\n",
    "- Now, i am able to say housing prices are determined based on each housing characteristics, and it is reasonable to argue that housing prices are determined by income levels, since only when income levels get high, can the households purchase the houses with high costs.\n",
    "- Besides, i have already found the geographical locations are related with housing prices, it is the ocean proximity of the locations. However, i think it is also reasonable to worth mentioning another important factor of geographical feature, which is the frequencies of earthquake. So in next part, i will further explore the relationships between the frequencies of the earthquake and housing prices.\n",
    "- With reference about economic analysis, houses are the assets and investments of individuals, they are the wealth for them. When the values of houses increase, due to wealth effect, they are relatively richer, and income levels would be corelatively increase. Would there be a connection between investment opportunities and housing prices? In the next part, i will demonstrate that.\n",
    "- For the purpose of exploring the relationships between the investment opportunities and housing prices, it is important to note that the housing prices growth rate will remain the same pattern in the future compared with the past (Collins, 2022). So that i will assume that all housing prices growth rate in each county in California will remain the same pattern, i will hold other economic factors the same, by excluding the inflation rate, etc."
   ]
  },
  {
   "cell_type": "markdown",
   "id": "0949c7d2",
   "metadata": {},
   "source": [
    "# Project Three"
   ]
  },
  {
   "cell_type": "markdown",
   "id": "ef8892e1",
   "metadata": {},
   "source": [
    "The third project is the one missed to be graded, due to medical reasons i did not receive any comments."
   ]
  },
  {
   "cell_type": "markdown",
   "id": "b24b71b0",
   "metadata": {},
   "source": [
    "In this part, i will mainly explore the relationships between the number of starups and housing prices."
   ]
  },
  {
   "cell_type": "markdown",
   "id": "be6dca1c",
   "metadata": {},
   "source": [
    "To do that, same as previous projects, i will get the external datasets and information. Then clean and describe them."
   ]
  },
  {
   "cell_type": "markdown",
   "id": "b5c4ce6f",
   "metadata": {},
   "source": [
    "### Reading data"
   ]
  },
  {
   "cell_type": "code",
   "execution_count": null,
   "id": "55f537d8",
   "metadata": {},
   "outputs": [],
   "source": [
    "# There, i found another dataset which is about the population growth rate of each county in California \n",
    "#between 2010 and 2022.\n",
    "# the link is https://worldpopulationreview.com/us-counties/states/ca\n",
    "\n",
    "# I create df30 to store the information of all the population growth rates\n",
    "df30 = pd.read_csv(\"pop.csv\")\n",
    "df30 = pd.DataFrame(df30)\n",
    "df30['CTYNAME'] = df30['CTYNAME'].str.replace(r'County', '')\n",
    "df30 =df30.sort_values('CTYNAME', ascending=True)\n",
    "df30.rename(columns = {'CTYNAME':'NAME'}, inplace = True)\n",
    "df30=df30.drop(['pop2022', 'popDensity'], axis=1)\n",
    "# Create df31 to store the growth rate for each county\n",
    "df31=df30.groupby(by=[\"NAME\"]).mean()"
   ]
  },
  {
   "cell_type": "code",
   "execution_count": null,
   "id": "abc1d130",
   "metadata": {},
   "outputs": [],
   "source": [
    "#Create df10 for store the startups dataset from kaggle\n",
    "df10 = pd.read_csv(\"offices.csv\")\n",
    "# create df11 to store the startups only in California\n",
    "df11 = df10.loc[(df10.state_code == 'CA')]\n",
    "#df11.loc[df11.latitude == 0.000000, 'latitude'].count()\n",
    "# The above code is for count the number of starups with no information on locations\n"
   ]
  },
  {
   "cell_type": "markdown",
   "id": "ab2c524b",
   "metadata": {},
   "source": [
    "Since i found there are missing information for lots of the starups in California, so the code below is to clean the dataset and only keep the startups with geographical locations in California in 21 century."
   ]
  },
  {
   "cell_type": "markdown",
   "id": "1da33fbd",
   "metadata": {},
   "source": [
    "### Clean data"
   ]
  },
  {
   "cell_type": "code",
   "execution_count": null,
   "id": "027fd798",
   "metadata": {},
   "outputs": [],
   "source": [
    "df12 = df11.loc[(df11.latitude != 0.000000)]"
   ]
  },
  {
   "cell_type": "markdown",
   "id": "b9cf27e4",
   "metadata": {},
   "source": [
    "Clean the latitude and longitude in df12 to get the float version of data"
   ]
  },
  {
   "cell_type": "code",
   "execution_count": null,
   "id": "5d1b801a",
   "metadata": {},
   "outputs": [],
   "source": [
    "df12['latitude'] = pd.to_numeric(df12['latitude'])\n",
    "df12['longitude'] = pd.to_numeric(df12['longitude'])\n"
   ]
  },
  {
   "cell_type": "markdown",
   "id": "8ecd32ea",
   "metadata": {},
   "source": [
    "Get the coordinates information for each startup"
   ]
  },
  {
   "cell_type": "code",
   "execution_count": null,
   "id": "403ab430",
   "metadata": {},
   "outputs": [],
   "source": [
    "df12[\"Coordinates\"] = list(zip(df12.longitude, df12.latitude))\n",
    "df12[\"Coordinates\"] = df12[\"Coordinates\"].apply(Point)"
   ]
  },
  {
   "cell_type": "markdown",
   "id": "e435ff7d",
   "metadata": {},
   "source": [
    "Next, i found the most relevant picture from this link(https://www.kaggle.com/camnugent/california-housing-feature-engineering), so that i can use this general map of California to see where the startups located at with accuracy."
   ]
  },
  {
   "cell_type": "code",
   "execution_count": null,
   "id": "c504325b",
   "metadata": {},
   "outputs": [],
   "source": [
    "# Donwloading and reading the image of the general map of California\n",
    "california_img=mpimg.imread('California.png')"
   ]
  },
  {
   "cell_type": "markdown",
   "id": "9fa0d77b",
   "metadata": {},
   "source": [
    "With the scartterplot and image of California, i can see where those startups in California located at."
   ]
  },
  {
   "cell_type": "markdown",
   "id": "cd8a8189",
   "metadata": {},
   "source": [
    "### Visualization about the locations of startups"
   ]
  },
  {
   "cell_type": "code",
   "execution_count": 31,
   "id": "26a6b81d",
   "metadata": {},
   "outputs": [
    {
     "ename": "NameError",
     "evalue": "name 'df12' is not defined",
     "output_type": "error",
     "traceback": [
      "\u001b[0;31m---------------------------------------------------------------------------\u001b[0m",
      "\u001b[0;31mNameError\u001b[0m                                 Traceback (most recent call last)",
      "Input \u001b[0;32mIn [31]\u001b[0m, in \u001b[0;36m<cell line: 1>\u001b[0;34m()\u001b[0m\n\u001b[0;32m----> 1\u001b[0m \u001b[43mdf12\u001b[49m\u001b[38;5;241m.\u001b[39mplot(kind\u001b[38;5;241m=\u001b[39m\u001b[38;5;124m'\u001b[39m\u001b[38;5;124mscatter\u001b[39m\u001b[38;5;124m'\u001b[39m, x\u001b[38;5;241m=\u001b[39m\u001b[38;5;124m'\u001b[39m\u001b[38;5;124mlongitude\u001b[39m\u001b[38;5;124m'\u001b[39m, y\u001b[38;5;241m=\u001b[39m\u001b[38;5;124m'\u001b[39m\u001b[38;5;124mlatitude\u001b[39m\u001b[38;5;124m'\u001b[39m, alpha\u001b[38;5;241m=\u001b[39m\u001b[38;5;241m0.4\u001b[39m, figsize\u001b[38;5;241m=\u001b[39m(\u001b[38;5;241m10\u001b[39m,\u001b[38;5;241m7\u001b[39m),\n\u001b[1;32m      2\u001b[0m                 cmap\u001b[38;5;241m=\u001b[39mplt\u001b[38;5;241m.\u001b[39mget_cmap(\u001b[38;5;124m'\u001b[39m\u001b[38;5;124mjet\u001b[39m\u001b[38;5;124m'\u001b[39m))\n\u001b[1;32m      3\u001b[0m plt\u001b[38;5;241m.\u001b[39mimshow(california_img, extent\u001b[38;5;241m=\u001b[39m[\u001b[38;5;241m-\u001b[39m\u001b[38;5;241m124.55\u001b[39m, \u001b[38;5;241m-\u001b[39m\u001b[38;5;241m113.80\u001b[39m, \u001b[38;5;241m32.45\u001b[39m, \u001b[38;5;241m42.05\u001b[39m], alpha\u001b[38;5;241m=\u001b[39m\u001b[38;5;241m0.5\u001b[39m)\n\u001b[1;32m      4\u001b[0m plt\u001b[38;5;241m.\u001b[39mylabel(\u001b[38;5;124m\"\u001b[39m\u001b[38;5;124mLatitude\u001b[39m\u001b[38;5;124m\"\u001b[39m, fontsize\u001b[38;5;241m=\u001b[39m\u001b[38;5;241m14\u001b[39m)\n",
      "\u001b[0;31mNameError\u001b[0m: name 'df12' is not defined"
     ]
    }
   ],
   "source": [
    "\n",
    "df12.plot(kind='scatter', x='longitude', y='latitude', alpha=0.4, figsize=(10,7),\n",
    "                cmap=plt.get_cmap('jet'))\n",
    "plt.imshow(california_img, extent=[-124.55, -113.80, 32.45, 42.05], alpha=0.5)\n",
    "plt.ylabel(\"Latitude\", fontsize=14)\n",
    "plt.xlabel(\"Longitude\", fontsize=14)\n",
    "\n",
    "plt.legend() \n",
    "plt.show()"
   ]
  },
  {
   "cell_type": "markdown",
   "id": "04a4334e",
   "metadata": {},
   "source": [
    "- Firstly, From the scartterplot and reference of image of California, we can now observe the locations of startups in California.\n",
    "- Secondly, it is obvious that regions at latitude 38 longitude -122 and latitude 34 longitude -118 had the most number of startups compared with other regions. \n",
    "- Recall from previous project where i compare the income levels, population density and housing prices in each county, i also plotted three seperate maps, and get the following findings: At the same two regions (regions at latitude 38 longitude -122 and latitude 34 longitude -118), compared with other regions, the housing prices were the highest, population density was the highest, income levels of households were also the highest.\n",
    "- When combining all the relations, we might be able to intuitively get the idea that for those regions with large amount of business startups, the housing prices and income levels are relatively high."
   ]
  },
  {
   "cell_type": "markdown",
   "id": "7f9c49e4",
   "metadata": {},
   "source": [
    "### Clean data"
   ]
  },
  {
   "cell_type": "markdown",
   "id": "8b5cd05d",
   "metadata": {},
   "source": [
    "There, i aim to create a dataframe to store the information of latitudes and longitudes of each startup in California, then purpose of doing that is to merge the startups dataset with my original dataset, so that i can see the median housing values and income levels for these startups locations."
   ]
  },
  {
   "cell_type": "code",
   "execution_count": null,
   "id": "6dd6ea5b",
   "metadata": {},
   "outputs": [],
   "source": [
    "df13= df12['latitude']\n",
    "df14 = df12['longitude']\n",
    "\n",
    "df14 = np.trunc(100 * df14) / 100\n",
    "df13 = np.trunc(100* df13) /100\n",
    "df13=pd.DataFrame(df13)\n",
    "df14 = pd.DataFrame(df14)\n",
    "df15 = pd.concat([df13, df14], axis=1)"
   ]
  },
  {
   "cell_type": "markdown",
   "id": "e2052909",
   "metadata": {},
   "source": [
    "There, i create dataframe df_merge2 to merge my original housing dataset with the startups dataset, now i am able to see the information of areas with those startups."
   ]
  },
  {
   "cell_type": "code",
   "execution_count": null,
   "id": "44fcc6bc",
   "metadata": {
    "scrolled": false
   },
   "outputs": [],
   "source": [
    "# get the coordinates for each startups\n",
    "df15['latitude'] = pd.to_numeric(df15['latitude'])\n",
    "df15['longitude'] = pd.to_numeric(df15['longitude'])\n",
    "df15[\"Coordinates\"] = list(zip(df15.longitude, df15.latitude))\n",
    "df15[\"Coordinates\"] = df15[\"Coordinates\"].apply(Point)\n",
    "\n",
    "# get the county information and create gdf for dataframe 15\n",
    "df15_gdf = gpd.GeoDataFrame(df15, crs = 4269, geometry=\"Coordinates\") \n",
    "county_df = gpd.read_file(\"http://www2.census.gov/geo/tiger/GENZ2016/shp/cb_2016_us_county_5m.zip\")\n",
    "CA_county = county_df.query(\"STATEFP == '06'\")\n",
    "\n",
    "\n",
    "df_merge1 = gpd.sjoin(df_gdf, df15_gdf, how='inner')\n",
    "df_merge1 = df_merge1.drop(['index_right'], axis=1)\n",
    "#Merging the dataframes df_merge1 with my original dataset, df_merge2 represents for the housing information of all \n",
    "#startups in CA\n",
    "df_merge2 = gpd.sjoin(df_merge1, CA_county, how='inner')\n",
    "df_merge2 = df_merge2.rename(columns={'longitude_left': 'longitude', 'latitude_left': 'latitude'})"
   ]
  },
  {
   "cell_type": "markdown",
   "id": "cef798f4",
   "metadata": {},
   "source": [
    "Now i got the locations and housing information for each startup in California.\n",
    "However, i can not see the relationship between the number of startups and housing prices, income levels, so i think it is a good idea to get the number of startups for each county, then i am able to visualize it and compare the information"
   ]
  },
  {
   "cell_type": "code",
   "execution_count": null,
   "id": "e6eec114",
   "metadata": {},
   "outputs": [],
   "source": [
    "# Creating dataframe 25 to store the number of startups in each county\n",
    "df25 = df_merge2.groupby(['NAME'])['NAME'].count()\n",
    "df25 = pd.DataFrame(df25)\n",
    "df25.rename(columns = {'NAME':'startups'}, inplace = True)"
   ]
  },
  {
   "cell_type": "markdown",
   "id": "28504bc1",
   "metadata": {},
   "source": [
    "Create dataframe (df16) to store the information about the median income, population and median housing value in each county with startups."
   ]
  },
  {
   "cell_type": "code",
   "execution_count": null,
   "id": "776e7332",
   "metadata": {
    "scrolled": false
   },
   "outputs": [],
   "source": [
    "df16 = df_merge2[[\"NAME\",\"median_income\",\"population\",\"median_house_value\"]].groupby(\"NAME\").mean()"
   ]
  },
  {
   "cell_type": "markdown",
   "id": "ac71102a",
   "metadata": {},
   "source": [
    "Notice i only have 31 observations in df25, which means i only have the information about the number of startups in 31 counties in California, but there are 58 counties, so it is reasonable to leave those counties as 0. Since no observations means there are no startups at that time."
   ]
  },
  {
   "cell_type": "markdown",
   "id": "ccdfdffd",
   "metadata": {},
   "source": [
    "Besides, for those counties without startups, i also have no information about the median incomes and housing prices. I can not simply use the information before, since now i am detecting the counties with startups, the stories and data are different if those counties have startups, so i would leave median income and population as missing for the purpose of accuracy."
   ]
  },
  {
   "cell_type": "code",
   "execution_count": null,
   "id": "4ec94860",
   "metadata": {},
   "outputs": [],
   "source": [
    "data = {'NAME': ['Yuba', 'Alpine', 'Amador', 'Calaveras','Colusa','Del Norte','Glenn','Imperial','Inyo','Lake','Lassen','Mariposa','Mendocino','Merced','Modoc','Mono','Monterey','Plumas','San Benito','Shasta','Sierra','Siskiyou','Stanislaus','Sutter','Tehama','Trinity','Tuolumne'], \n",
    "        'median_income': [None,None, None, None, None, None, None, None, None, None, None, None, None, None, None, None, None, None, None, None, None, None, None, None, None, None, None],\n",
    "        'population':[None,None, None, None, None, None, None, None, None, None, None, None, None, None, None, None, None, None, None, None, None, None, None, None, None, None, None],\n",
    "        }  \n",
    "df20 =pd.DataFrame(data)"
   ]
  },
  {
   "cell_type": "markdown",
   "id": "41d4904c",
   "metadata": {},
   "source": [
    "The code above i created a dataframe contains the missing values for the remained 27 counties with no startups."
   ]
  },
  {
   "cell_type": "code",
   "execution_count": null,
   "id": "d5a246f5",
   "metadata": {},
   "outputs": [],
   "source": [
    "# get the mean dataframe of df20 so that i can merge in the next step.\n",
    "df20 = df20.groupby('NAME').mean()"
   ]
  },
  {
   "cell_type": "markdown",
   "id": "f7bb95e5",
   "metadata": {},
   "source": [
    "Now, with the population growth rate in each county, median income and housing prices for the counties with startups, as well as the population of each county, i am able to merge them all in a single dataframe so that i can visualize them as a whole."
   ]
  },
  {
   "cell_type": "code",
   "execution_count": 32,
   "id": "dccffaf7",
   "metadata": {},
   "outputs": [
    {
     "ename": "NameError",
     "evalue": "name 'df26' is not defined",
     "output_type": "error",
     "traceback": [
      "\u001b[0;31m---------------------------------------------------------------------------\u001b[0m",
      "\u001b[0;31mNameError\u001b[0m                                 Traceback (most recent call last)",
      "Input \u001b[0;32mIn [32]\u001b[0m, in \u001b[0;36m<cell line: 2>\u001b[0;34m()\u001b[0m\n\u001b[1;32m      1\u001b[0m \u001b[38;5;66;03m#Create the dataframe (df32) to store all the information for the counties with startups.\u001b[39;00m\n\u001b[0;32m----> 2\u001b[0m df32 \u001b[38;5;241m=\u001b[39m pd\u001b[38;5;241m.\u001b[39mmerge(\u001b[43mdf26\u001b[49m\u001b[38;5;241m.\u001b[39mreset_index(),df31\u001b[38;5;241m.\u001b[39mreset_index(),left_index\u001b[38;5;241m=\u001b[39m \u001b[38;5;28;01mTrue\u001b[39;00m, right_index\u001b[38;5;241m=\u001b[39m\u001b[38;5;28;01mTrue\u001b[39;00m)\n\u001b[1;32m      3\u001b[0m \u001b[38;5;66;03m#df32=pd.merge(df21, df31, left_on=\"NAME\", right_index=True)\u001b[39;00m\n\u001b[1;32m      4\u001b[0m df32\u001b[38;5;241m.\u001b[39mrename(columns \u001b[38;5;241m=\u001b[39m {\u001b[38;5;124m'\u001b[39m\u001b[38;5;124mNAME_x\u001b[39m\u001b[38;5;124m'\u001b[39m:\u001b[38;5;124m'\u001b[39m\u001b[38;5;124mNAME\u001b[39m\u001b[38;5;124m'\u001b[39m}, inplace \u001b[38;5;241m=\u001b[39m \u001b[38;5;28;01mTrue\u001b[39;00m)\n",
      "\u001b[0;31mNameError\u001b[0m: name 'df26' is not defined"
     ]
    }
   ],
   "source": [
    "#Create the dataframe (df32) to store all the information for the counties with startups.\n",
    "df32 = pd.merge(df26.reset_index(),df31.reset_index(),left_index= True, right_index=True)\n",
    "#df32=pd.merge(df21, df31, left_on=\"NAME\", right_index=True)\n",
    "df32.rename(columns = {'NAME_x':'NAME'}, inplace = True)\n",
    "df21=pd.concat([df16, df20], axis=0)\n",
    "#dfstap=pd.concat([df21, df25], axis=1)\n",
    "#df21 = df21.sort_values('NAME', ascending=True)\n",
    "# Creating a dataframe contains the same information with df32, but with \"NAME\" as the index\n",
    "df21 =df21.sort_values('NAME', ascending=True)"
   ]
  },
  {
   "cell_type": "markdown",
   "id": "961d09a6",
   "metadata": {},
   "source": [
    "Don't forget the general map of California, we can check with this map to see any mistakes on the latitude and longitudes."
   ]
  },
  {
   "cell_type": "code",
   "execution_count": null,
   "id": "aa1f7fe0",
   "metadata": {},
   "outputs": [],
   "source": [
    "state_df = gpd.read_file(\"http://www2.census.gov/geo/tiger/GENZ2016/shp/cb_2016_us_state_5m.zip\")\n",
    "\n",
    "county_df = gpd.read_file(\"http://www2.census.gov/geo/tiger/GENZ2016/shp/cb_2016_us_county_5m.zip\")\n",
    "county_df = county_df.query(\"STATEFP == '06'\")\n",
    "fig, gax = plt.subplots(figsize=(10, 10))\n",
    "\n",
    "state_df.query(\"NAME == 'California'\").plot(ax=gax, edgecolor=\"black\", color=\"white\")\n",
    "county_df.plot(ax=gax, edgecolor=\"black\", color=\"white\")\n",
    "\n",
    "#for x, y, label in zip(City_County_merge1['Coordinates'].x, City_County_merge1['Coordinates'].y, City_County_merge1['Name']):\n",
    "#    gax.annotate(label, xy=(x,y), xytext=(4,4), textcoords='offset points')"
   ]
  },
  {
   "cell_type": "code",
   "execution_count": null,
   "id": "bd212378",
   "metadata": {
    "scrolled": false
   },
   "outputs": [],
   "source": [
    "# Plot the map about the distribution of median income levels for the counties with startups\n",
    "df22 = county_df.merge(df21, left_on=\"NAME\", right_on=\"NAME\", how=\"inner\")\n",
    "\n",
    "df22 = df22.fillna(value=0)\n",
    "fig, gax = plt.subplots(figsize = (10,10))\n",
    "\n",
    "state_df[state_df['NAME'] == 'California'].plot(ax=gax, edgecolor=\"black\", color=\"white\")\n",
    "\n",
    "df22.plot(\n",
    "    ax=gax, edgecolor='black',column='median_income', legend=True, cmap='RdBu_r',\n",
    "    vmin=0.00, vmax=5.6\n",
    ")\n",
    "\n",
    "gax.annotate('Income',xy=(0.70, 0.06),  xycoords='figure fraction')\n",
    "\n",
    "plt.axis('on')\n",
    "plt.show()"
   ]
  },
  {
   "cell_type": "markdown",
   "id": "efc20ec1",
   "metadata": {},
   "source": [
    "- From this map, i can see the distribution of income levels of households in each county with startups.\n",
    "- We can see there are lots of regions with high blue color, those are the regions with no startups, so that the median income levels are counted as missing in this scenario. For the purpose of visulization, Prof K suggests i directly replace the missing values with 0, so that we can only care about the regions with startups, and compare the income levels more clearly.\n",
    "- It is obvious that regions at latitude 38 longitude -122 and latitude 34 longitude -118 had the highest income levels compared with other regions. \n",
    "- Which is consistent with the findings as before, with more number of startups in the regions, the income levels are related high."
   ]
  },
  {
   "cell_type": "markdown",
   "id": "21b257b8",
   "metadata": {},
   "source": [
    "Now, i will try to plot all the information of each county in California. To be more specific, i want to compare the income levels, the number of startups, population growth rate and housing prices for those counties with startups."
   ]
  },
  {
   "cell_type": "code",
   "execution_count": null,
   "id": "8481474d",
   "metadata": {},
   "outputs": [],
   "source": [
    "#Creating dataframes to store the all the mentioned information for each county.\n",
    "df26=pd.merge(df21, df25, on=\"NAME\")\n",
    "df26=pd.concat([df26, df20], axis=0)\n",
    "\n",
    "df26 =df32.sort_values('NAME', ascending=True)\n",
    "df26 = df26.drop(['GrowthRate_y','NAME_y'], axis=1)\n",
    "df26.rename(columns = {'GrowthRate_x':'GrowthRate'}, inplace = True)\n",
    "df27 = county_df.merge(df26, left_on=\"NAME\", right_on=\"NAME\", how=\"inner\")\n",
    "\n",
    "# Fill the missing values in the number of startups category as 0\n",
    "df27['startups'] = df27['startups'].fillna(value=0)\n"
   ]
  },
  {
   "cell_type": "code",
   "execution_count": null,
   "id": "8e7b94fe",
   "metadata": {},
   "outputs": [],
   "source": [
    "from bokeh.io import output_notebook\n",
    "from bokeh.plotting import figure, ColumnDataSource\n",
    "from bokeh.io import output_notebook, show, output_file\n",
    "from bokeh.plotting import figure\n",
    "from bokeh.models import GeoJSONDataSource, LinearColorMapper, ColorBar, HoverTool\n",
    "from bokeh.palettes import brewer\n",
    "from bokeh.palettes import brewer, Spectral6\n",
    "output_notebook()\n",
    "import json\n",
    "\n",
    "\n",
    "wi_geojson=GeoJSONDataSource(geojson=df27.to_json())"
   ]
  },
  {
   "cell_type": "code",
   "execution_count": null,
   "id": "3668d972",
   "metadata": {},
   "outputs": [],
   "source": [
    "color_mapper = LinearColorMapper(palette = Spectral6, low = 1, high =  100)\n",
    "color_bar = ColorBar(color_mapper=color_mapper, label_standoff=8,width = 500, height = 20,\n",
    "                     border_line_color=None,location = (0,0), orientation = 'horizontal')\n",
    "hover = HoverTool(tooltips = [ ('County','@NAME'),('Median Income', '@median_income'),('Startups', '@startups'),('median_house_value','@median_house_value'),('growth_rate','@GrowthRate')])\n",
    "p = figure(title=\"Distribution of median income for each county in California\", tools=[hover])\n",
    "p.patches(\"xs\",\"ys\",source=wi_geojson,\n",
    "          fill_color = {'field' :'startups', 'transform' : color_mapper})\n",
    "p.add_layout(color_bar, 'below')\n",
    "show(p)"
   ]
  },
  {
   "cell_type": "markdown",
   "id": "44489f3e",
   "metadata": {},
   "source": [
    "- The map visualizes all the information for the counties with startups, notice there were only 31 observations for the counties in California in 2007, and on observations simply indicate there are no startups in the remained 27 counties in California at that time.\n",
    "- The indicator represents red regions as more number of startups, and blue regions as less or no startups. Notice that although the max level of the indicator is 100, there are lots of regions above 100 and even reach a thousand.\n",
    "- Those regions are, San Diego: 430 startups, Los Angeles:2892 startups, Orange:314 startups, Santa Barbara:66 startups, Santa Clara:2485 startups, San Mateo:1035 startups, Alameda:456. San Francisco: 4450 startups. \n",
    "- Notice from the map we can observe that, among all the regions with above 100 startups the land areas of San Francisco is the lowest, but it has the highest number of startups: 4450. And the median income levels were 33200 US dollars, median housing prices were 289382 US dollars, population growth rate was about 9.7%, these statistics were all above the average compared with other regions.\n",
    "- It is also obvious that regions at latitude 38 longitude -122 and latitude 34 longitude -118 had the most number of startups compared with other regions, with relatively higher income levels, relatively more expensive housing prices, and relatively higher populaiton growth rate. This is consistent with our intuitions: These areas are recognized as metropolitan areas, with higher economies, people are living in better conditions, getting better wages, but paying higher costs of living."
   ]
  },
  {
   "cell_type": "markdown",
   "id": "ad9ff27e",
   "metadata": {},
   "source": [
    "In the previous projects, i have already concluded the relationships between geographical locations and housing prices. To explain, when the shelters are closer to the ocean, or 1 hour less than the ocean, the houses become more valubale and require people higher costs of purchasing. However, another important feature about geographical location is earthquake.\n",
    "There goes beyond no doubt that people are concerned about the their wealth and health, and it is evident that people tend to live away from the areas with higher frequencies of earthquakes."
   ]
  },
  {
   "cell_type": "markdown",
   "id": "732b53a7",
   "metadata": {},
   "source": [
    "In the next step, i will web scrape a website which contains the earthquake information in California before 1990. The link is below: http://wiki.stat.ucla.edu/socr/index.php/SOCR_Data_021708_Earthquakes."
   ]
  },
  {
   "cell_type": "markdown",
   "id": "e2ee1d34",
   "metadata": {},
   "source": [
    "The method of web-scraping is by using the HTML based."
   ]
  },
  {
   "cell_type": "code",
   "execution_count": null,
   "id": "838900d8",
   "metadata": {},
   "outputs": [],
   "source": [
    "web_url = 'http://wiki.stat.ucla.edu/socr/index.php/SOCR_Data_021708_Earthquakes'\n",
    "response = requests.get(web_url)"
   ]
  },
  {
   "cell_type": "code",
   "execution_count": null,
   "id": "229d632b",
   "metadata": {},
   "outputs": [],
   "source": [
    "soup_object = BeautifulSoup(response.content)\n",
    "#soup_object"
   ]
  },
  {
   "cell_type": "code",
   "execution_count": null,
   "id": "76e5fc9c",
   "metadata": {},
   "outputs": [],
   "source": [
    "data_table = soup_object.find_all('table', 'wikitable')[1]\n",
    "all_values = data_table.find_all('tr')"
   ]
  },
  {
   "cell_type": "code",
   "execution_count": null,
   "id": "77fb81c4",
   "metadata": {},
   "outputs": [],
   "source": [
    "earthquakedf = pd.DataFrame(columns = ['Date','Time', 'Latitude', 'Longitude','Depth','Mag','Magt','Nst','Gap','Clo','RMS','SRC','EventID']) # Create an empty dataframe\n",
    "ix = 0 \n",
    "\n",
    "for row in all_values[1:]:\n",
    "    values = row.find_all('td') \n",
    "    Date = values[0].text\n",
    "    Time = values[1].text\n",
    "    Latitude = values[2].text\n",
    "    Longitude = values[3].text\n",
    "    Depth = values[4].text\n",
    "    Mag = values[5].text\n",
    "    Magt = values[6].text\n",
    "    Nst = values[7].text\n",
    "    Gap = values[8].text\n",
    "    Clo = values[9].text\n",
    "    RMS = values[10].text\n",
    "    SRC = values[11].text\n",
    "    EventID = values[12].text.strip('\\n')\n",
    "    \n",
    "    earthquakedf.loc[ix] = [Date,Time, Latitude, Longitude, Depth, Mag, Magt, Nst, Gap, Clo, RMS, SRC, EventID] \n",
    "    ix += 1\n",
    "    \n",
    "earthquakedf[[\"year\", \"month\", \"day\"]] = earthquakedf[\"Date\"].str.split(\"/\", expand = True)"
   ]
  },
  {
   "cell_type": "markdown",
   "id": "967483be",
   "metadata": {},
   "source": [
    "Now i got the table which contains all the informaiton of earthquake in California, but i do not care about the earthquakes after 1990, so i would clean them"
   ]
  },
  {
   "cell_type": "code",
   "execution_count": null,
   "id": "44dbb046",
   "metadata": {},
   "outputs": [],
   "source": [
    "# Data Cleaning\n",
    "earthquakedf[\"year\"] = earthquakedf[\"year\"].str.strip()\n",
    "filtered_df = earthquakedf.loc[(earthquakedf.year < \"1991\")]"
   ]
  },
  {
   "cell_type": "code",
   "execution_count": 36,
   "id": "d93dcabe",
   "metadata": {},
   "outputs": [
    {
     "ename": "NameError",
     "evalue": "name 'df27' is not defined",
     "output_type": "error",
     "traceback": [
      "\u001b[0;31m---------------------------------------------------------------------------\u001b[0m",
      "\u001b[0;31mNameError\u001b[0m                                 Traceback (most recent call last)",
      "Input \u001b[0;32mIn [36]\u001b[0m, in \u001b[0;36m<cell line: 1>\u001b[0;34m()\u001b[0m\n\u001b[0;32m----> 1\u001b[0m \u001b[43mdf27\u001b[49m\n",
      "\u001b[0;31mNameError\u001b[0m: name 'df27' is not defined"
     ]
    }
   ],
   "source": [
    "df27"
   ]
  },
  {
   "cell_type": "markdown",
   "id": "0f274f04",
   "metadata": {},
   "source": [
    "Now i got the all the information for the earthquakes in California before 1991, now i want to plot them in the map to see which areas are earthquake-frequent."
   ]
  },
  {
   "cell_type": "code",
   "execution_count": null,
   "id": "b14df6c2",
   "metadata": {},
   "outputs": [],
   "source": [
    "# Creating dataframes of the longitudes and latitudes of earthquake locations, and plot them in the map\n",
    "earthquake_lati= filtered_df['Latitude']\n",
    "earthquake_longi = filtered_df['Longitude']\n",
    "earthquake_lati=earthquake_lati.astype(float)\n",
    "earthquake_longi =earthquake_longi.astype(float)\n",
    "\n",
    "earthquake_lati1=np.trunc(100 * earthquake_lati) / 100\n",
    "earthquake_longi1 = np.trunc(100* earthquake_longi) /100\n",
    "# Getting the coordinates so that i can map them \n",
    "earthquake_lati1=pd.DataFrame(earthquake_lati1)\n",
    "earthquake_longi1 = pd.DataFrame(earthquake_longi1)\n",
    "df23 = pd.concat([earthquake_lati1, earthquake_longi1], axis=1)\n",
    "df23['Latitude'] = pd.to_numeric(df23['Latitude'])\n",
    "df23['Longitude'] = pd.to_numeric(df23['Longitude'])\n",
    "df23[\"Coordinates\"] = list(zip(df23.Longitude, df23.Latitude))\n",
    "df23[\"Coordinates\"] = df23[\"Coordinates\"].apply(Point)\n",
    "\n",
    "df23.rename(columns = {'Latitude':'latitude','Longitude':'longitude'}, inplace = True)\n",
    "\n",
    "df_merge3 = pd.merge(df, df23, on=\"latitude\")"
   ]
  },
  {
   "cell_type": "code",
   "execution_count": null,
   "id": "ed838cc0",
   "metadata": {},
   "outputs": [],
   "source": [
    "df_merge3.plot(kind='scatter', x='longitude_x', y='latitude', alpha=0.4, figsize=(10,7),\n",
    "                  c='median_house_value', cmap=plt.get_cmap('jet'), colorbar=True)\n",
    "plt.imshow(california_img, extent=[-124.55, -113.80, 32.45, 42.05], alpha=0.5)\n",
    "plt.ylabel(\"Latitude\", fontsize=14)\n",
    "plt.xlabel(\"Longitude\", fontsize=14)\n",
    "\n",
    "plt.legend() \n",
    "plt.show()"
   ]
  },
  {
   "cell_type": "markdown",
   "id": "2da83591",
   "metadata": {},
   "source": [
    "- This map contains the locations of all the earthquakes in California before 1990.\n",
    "- The plot also relate the median housing prices for those locations. When each dot is closer to red, it means the housing prices are higher, and when the dot is closer to blue, it means the housing prices are lower.\n",
    "- It is obvious that the regions at latitude 38 longitude -122 and latitude 34 longitude -118 were the most earthquake-frequent.\n",
    "- The reason why this analysis only included the earthquake information before 1990 was that: the dataset about housing prices were up to 1990, all the information obtained was based on the period before 1990.\n",
    "- The economic intuition behind this was that people indeed care about the wealth and health, and it is tempting to say that the housing prices got lower when the regions were highly earthquake related. However, this seems not the case, although the regions at latitude 38 longitude -122 and latitude 34 longitude -118 were the most earthquake-frequent, the housing prices were the highest, and it follow the same pattern we found in previous projects. Recall that, these regions had the highest number of startups, the highest income levels, and highest population density and population growth rate.\n",
    "- It is surprsing that housing prices were even high in those regions with high frequencies of earthquake. The reasonable explanation for that could be: with the improvement of cutting-edge techonologies, and sustainable government fundings, the infrasturctures and basid constructions are reliable and efficient. Housing markets support the reliability and safety of the building by putting into high construction costs. Therefore, to cover the costs, it is likely for the housing markets to increase the prices, since the locations and startups in these regions attract households the most. As a result, housing prices in these areas remained relatively high.\n",
    "- Even when the regions highly impacted by frequent earthquakes, can the housing prices hardly ever change. Which means that the frequency of earthquake does not determine the housing prices."
   ]
  },
  {
   "cell_type": "markdown",
   "id": "68337f92",
   "metadata": {},
   "source": [
    "## Final Project"
   ]
  },
  {
   "cell_type": "markdown",
   "id": "7fce1fbb",
   "metadata": {},
   "source": [
    "So far, we have concluded multiple relationships:"
   ]
  },
  {
   "cell_type": "markdown",
   "id": "7bbe9a52",
   "metadata": {},
   "source": [
    "- Higher income levels anticipate higher housing prices.\n",
    "- Housing prices get higher when it is closer to the ocean.\n",
    "- The regions with more number of startups have higher housing prices.\n",
    "- Regions with frequeny earthquakes still have high housing prices.\n",
    "- Earthquakes are frequeny in the regions with high income levels and high housing prices."
   ]
  },
  {
   "cell_type": "markdown",
   "id": "1d250148",
   "metadata": {},
   "source": [
    "In this last section of the paper, i will further demonstrate the relationships between X and Y variables by linear regression models, multivariate regression models, IV regression as well as regression tree."
   ]
  },
  {
   "cell_type": "markdown",
   "id": "eef6d3f3",
   "metadata": {},
   "source": [
    "This is my first time to get in touch with linear regressions, and machine learning, i will try my best to get the regression models and interpret them correctly."
   ]
  },
  {
   "cell_type": "code",
   "execution_count": 33,
   "id": "40ce7f18",
   "metadata": {},
   "outputs": [],
   "source": [
    "# clean data, convert the median housing values into log terms.\n",
    "log_house_value = np.log(df['median_house_value'])\n",
    "df[\"log_price\"] = log_house_value\n"
   ]
  },
  {
   "cell_type": "markdown",
   "id": "766fd526",
   "metadata": {},
   "source": [
    "let's first look at the general relationship between housing prices and income levels."
   ]
  },
  {
   "cell_type": "markdown",
   "id": "f7147acd",
   "metadata": {},
   "source": [
    "### Regression 1: median_income and median_house_value"
   ]
  },
  {
   "cell_type": "code",
   "execution_count": 34,
   "id": "1bef6058",
   "metadata": {},
   "outputs": [
    {
     "data": {
      "image/png": "[encoded data removed]",
      "text/plain": [
       "<Figure size 576x396 with 1 Axes>"
      ]
     },
     "metadata": {},
     "output_type": "display_data"
    }
   ],
   "source": [
    "plt.style.use('seaborn')\n",
    "\n",
    "df1.plot(x='median_income', y='median_house_value', kind='scatter')\n",
    "plt.show()"
   ]
  },
  {
   "cell_type": "markdown",
   "id": "71cd8ffc",
   "metadata": {},
   "source": [
    "The plot shows a fairly strong positive relationship between\n",
    "median income and median house values.\n",
    "\n",
    "Specifically, with more income levels of households, they are able to purchase more expensive shelters.\n",
    "\n",
    "Given the plot, choosing a linear model to describe this relationship\n",
    "seems like a reasonable assumption.\n",
    "\n",
    "We can write our model as\n",
    "\n",
    "$$\n",
    "{medianHouseValue}_i = \\beta_0 + \\beta_1 {medianIncome}_i + u_i\n",
    "$$\n",
    "\n",
    "where:\n",
    "\n",
    "- $ \\beta_0 $ is the intercept of the linear trend line on the\n",
    "  y-axis  \n",
    "- $ \\beta_1 $ is the slope of the linear trend line, representing\n",
    "  the *marginal effect* of median income level on median house value  \n",
    "- $ u_i $ is a random error term (deviations of observations from\n",
    "  the linear trend due to factors not included in the model)  "
   ]
  },
  {
   "cell_type": "markdown",
   "id": "872ab8e1",
   "metadata": {},
   "source": [
    "To estimate the constant term $ \\beta_0 $, we need to add a column\n",
    "of 1’s to our dataset (consider the equation if $ \\beta_0 $ was\n",
    "replaced with $ \\beta_0 x_i $ and $ x_i = 1 $)"
   ]
  },
  {
   "cell_type": "code",
   "execution_count": 35,
   "id": "6e231024",
   "metadata": {},
   "outputs": [
    {
     "ename": "NameError",
     "evalue": "name 'sm' is not defined",
     "output_type": "error",
     "traceback": [
      "\u001b[0;31m---------------------------------------------------------------------------\u001b[0m",
      "\u001b[0;31mNameError\u001b[0m                                 Traceback (most recent call last)",
      "Input \u001b[0;32mIn [35]\u001b[0m, in \u001b[0;36m<cell line: 2>\u001b[0;34m()\u001b[0m\n\u001b[1;32m      1\u001b[0m df[\u001b[38;5;124m'\u001b[39m\u001b[38;5;124mconst\u001b[39m\u001b[38;5;124m'\u001b[39m] \u001b[38;5;241m=\u001b[39m \u001b[38;5;241m1\u001b[39m\n\u001b[0;32m----> 2\u001b[0m reg1 \u001b[38;5;241m=\u001b[39m \u001b[43msm\u001b[49m\u001b[38;5;241m.\u001b[39mOLS(endog\u001b[38;5;241m=\u001b[39mdf[\u001b[38;5;124m'\u001b[39m\u001b[38;5;124mmedian_house_value\u001b[39m\u001b[38;5;124m'\u001b[39m], exog\u001b[38;5;241m=\u001b[39mdf[[\u001b[38;5;124m'\u001b[39m\u001b[38;5;124mconst\u001b[39m\u001b[38;5;124m'\u001b[39m,\u001b[38;5;124m'\u001b[39m\u001b[38;5;124mmedian_income\u001b[39m\u001b[38;5;124m'\u001b[39m]],missing\u001b[38;5;241m=\u001b[39m\u001b[38;5;124m'\u001b[39m\u001b[38;5;124mdrop\u001b[39m\u001b[38;5;124m'\u001b[39m)\n\u001b[1;32m      3\u001b[0m results \u001b[38;5;241m=\u001b[39m reg1\u001b[38;5;241m.\u001b[39mfit()\n\u001b[1;32m      4\u001b[0m \u001b[38;5;28mtype\u001b[39m(results)\n",
      "\u001b[0;31mNameError\u001b[0m: name 'sm' is not defined"
     ]
    }
   ],
   "source": [
    "df['const'] = 1\n",
    "reg1 = sm.OLS(endog=df['median_house_value'], exog=df[['const','median_income']],missing='drop')\n",
    "results = reg1.fit()\n",
    "type(results)"
   ]
  },
  {
   "cell_type": "code",
   "execution_count": null,
   "id": "46ca2fcf",
   "metadata": {},
   "outputs": [],
   "source": [
    "print(results.summary())"
   ]
  },
  {
   "cell_type": "markdown",
   "id": "24ba63fd",
   "metadata": {},
   "source": [
    "From our results, we see that\n",
    "\n",
    "- The intercept $ \\hat{\\beta}_0 = 45090 $.  It means when all other vairbales equal to 0, the housing prices 45090 US dollars\n",
    "- The slope $ \\hat{\\beta}_1 = 41790 $.  This is the estimated coefficient of the median income. when holding other vairables constant,This denotes that a one more unit increase in the income levels will increase the median housing prices by 41790 US dollars\n",
    "- The positive $ \\hat{\\beta}_1 $ parameter estimate implies that.\n",
    "  income levels anticipate higher housing prices, as\n",
    "  we saw in the figure.  \n",
    "- The p-value of 0.000 for $ \\hat{\\beta}_1 $ implies that the\n",
    "  effect of median housing value is statistically significant (using p <\n",
    "  0.05 as a rejection rule).  \n",
    "- The R-squared value of 0.473 indicates that around 61% of variation\n",
    "  in median house values is explained by median income.  \n",
    "\n",
    "\n",
    "Using our parameter estimates, we can now write our estimated\n",
    "relationship as\n",
    "\n",
    "$$\n",
    "\\widehat{MedianHouseValue}_i = 45090 + 41790 \\ {MedianIncome}_i\n",
    "$$\n",
    "\n",
    "This equation describes the line that best fits our data, as shown in\n",
    "Figure 2.\n",
    "\n",
    "We can use this equation to predict the level of housing prices for\n",
    "a value of the income levels.\n",
    "\n",
    "The median income variable is significant for the model since the p-value is less than 0.05. However, the model has disadvantages, the model does not describe the true value accurately, since the R is only 0.473."
   ]
  },
  {
   "cell_type": "markdown",
   "id": "64ff2512",
   "metadata": {},
   "source": [
    "Plotting the predicted values against $ {MedianIncome}_i $ shows that the\n",
    "predicted values lie along the linear line that we fitted above.\n",
    "\n",
    "The observed values of $ {MedianHouseValue}_i $ are also plotted for\n",
    "comparison purposes"
   ]
  },
  {
   "cell_type": "code",
   "execution_count": null,
   "id": "ed17753e",
   "metadata": {},
   "outputs": [],
   "source": [
    "fix, ax = plt.subplots()\n",
    "ax.scatter(df['median_income'], results.predict(), alpha=0.5,\n",
    "        label='predicted')\n",
    "\n",
    "# Plot observed values\n",
    "\n",
    "ax.scatter(df['median_income'], df['median_house_value'], alpha=0.5,\n",
    "        label='observed')\n",
    "\n",
    "ax.legend()\n",
    "ax.set_title('OLS predicted values')\n",
    "ax.set_xlabel('avexpr')\n",
    "ax.set_ylabel('logpgp95')\n",
    "plt.show()"
   ]
  },
  {
   "cell_type": "markdown",
   "id": "2ec3e62f",
   "metadata": {},
   "source": [
    "### Regression 2 startups and log_price"
   ]
  },
  {
   "cell_type": "code",
   "execution_count": null,
   "id": "758e5604",
   "metadata": {},
   "outputs": [],
   "source": [
    "plt.style.use('seaborn')\n",
    "\n",
    "df27_subset.plot(x='startups', y='log_price', kind='scatter')\n",
    "plt.show()"
   ]
  },
  {
   "cell_type": "markdown",
   "id": "da2ef656",
   "metadata": {},
   "source": [
    "The plot shows no relationship between\n",
    "startups and log_price.\n",
    "\n",
    "Specifically, with more number of startups, the housing prices are almost not affected.\n",
    "\n",
    "This is not consistent with the causation we previously look at. Previously, we found there exists relationship between the number of startups and housing prices. Specifically, we intuitively believe that the regions with more number of startups, the housing prices are also high. Now, let's further explore the relationships by the linear regression model.\n",
    "\n",
    "Given the plot, choosing a linear model to describe this relationship\n",
    "seems like a reasonable assumption.\n",
    "\n",
    "We can write our model as\n",
    "\n",
    "$$\n",
    "{logPrice}_i = \\beta_0 + \\beta_1 {startups}_i + u_i\n",
    "$$\n",
    "\n",
    "where:\n",
    "\n",
    "- $ \\beta_0 $ is the intercept of the linear trend line on the\n",
    "  y-axis  \n",
    "- $ \\beta_1 $ is the slope of the linear trend line, representing\n",
    "  the *marginal effect* of startups on log housing prices  \n",
    "- $ u_i $ is a random error term (deviations of observations from\n",
    "  the linear trend due to factors not included in the model)  "
   ]
  },
  {
   "cell_type": "code",
   "execution_count": null,
   "id": "8137dd21",
   "metadata": {},
   "outputs": [],
   "source": [
    "df27_subset"
   ]
  },
  {
   "cell_type": "code",
   "execution_count": null,
   "id": "545a9c61",
   "metadata": {},
   "outputs": [],
   "source": [
    "df27_subset = df27.dropna(subset=['median_income', 'population','median_house_value'])\n",
    "startuplog_house_value = np.log(df27_subset['median_house_value'])\n",
    "df27_subset[\"log_price\"] = startuplog_house_value\n",
    "df27_subset['const'] = 1\n",
    "\n",
    "reg3 = sm.OLS(endog=df27_subset['log_price'], exog=df27_subset[['const','startups']],missing='drop')\n",
    "results3 = reg3.fit()\n",
    "type(results3)\n",
    "print(results3.summary())"
   ]
  },
  {
   "cell_type": "markdown",
   "id": "5b07f8d2",
   "metadata": {},
   "source": [
    "From our results, we see that\n",
    "\n",
    "- The intercept $ \\hat{\\beta}_0 = 11.9334 $.  It means when all other vairbales equal to 0, the log housing price is 11.9334 US dollars\n",
    "- The slope $ \\hat{\\beta}_1 = 0.0002 $.  This is the estimated coefficient of the startups. when holding other vairables constant,This denotes that a one more unit increase in the number of startups will increase the median housing prices by 0.02 percent.\n",
    "- The small positive $ \\hat{\\beta}_1 $ parameter estimate implies that.\n",
    "  The more number of startups anticipate very low increase in log housing prices.  \n",
    "- The p-value of 0.011 for $ \\hat{\\beta}_1 $ implies that the\n",
    "  effect of startups is statistically significant (using p <\n",
    "  0.05 as a rejection rule).  \n",
    "- The R-squared value of 0.201 indicates that around 20.1% of variation\n",
    "  in log_price is explained by startups.  \n",
    "\n",
    "\n",
    "Using our parameter estimates, we can now write our estimated\n",
    "relationship as\n",
    "\n",
    "$$\n",
    "\\widehat{logPrice}_i = 11.9334 + 0.0002 \\ {startups}_i\n",
    "$$\n",
    "\n",
    "This equation describes the line that best fits our data, as shown in\n",
    "Figure 3.\n",
    "\n",
    "\n",
    "The startups variable is significant for the model since the p-value is less than 0.05. However, the model has disadvantages, the model does not describe the true value accurately, since the R is only 0.201."
   ]
  },
  {
   "cell_type": "markdown",
   "id": "2ddee08a",
   "metadata": {},
   "source": [
    "Plotting the predicted values against $ {startups}_i $ shows that the\n",
    "predicted values lie along the linear line that we fitted above.\n",
    "\n",
    "The observed values of $ {log_price}_i $ are also plotted for\n",
    "comparison purposes"
   ]
  },
  {
   "cell_type": "code",
   "execution_count": null,
   "id": "dd80c691",
   "metadata": {
    "scrolled": false
   },
   "outputs": [],
   "source": [
    "X = df27_subset['startups']\n",
    "y = df27_subset['median_house_value']\n",
    "labels = df27_subset['NAME']\n",
    "\n",
    "# Replace markers with country labels\n",
    "fig, ax = plt.subplots()\n",
    "ax.scatter(X, y, marker='')\n",
    "\n",
    "for i, label in enumerate(labels):\n",
    "    ax.annotate(label, (X.iloc[i], y.iloc[i])) #set the coordinates of the labels\n",
    "\n",
    "# Fit a linear trend line\n",
    "ax.plot(np.unique(X),\n",
    "         np.poly1d(np.polyfit(X, y, 1))(np.unique(X)),\n",
    "         color='black')\n",
    "\n",
    "ax.set_xlim([0,5000])\n",
    "ax.set_ylim([0,400000])\n",
    "ax.set_xlabel('Number of startups')\n",
    "ax.set_ylabel('Housing prices in Calfornia 1990')\n",
    "ax.set_title('Figure 2: OLS relationship between startups and housing prices')\n",
    "\n",
    "plt.rcParams[\"figure.figsize\"] = (17,10)\n",
    "plt.show()"
   ]
  },
  {
   "cell_type": "markdown",
   "id": "0ed15ea4",
   "metadata": {},
   "source": [
    "### Regression 3: Ocean_proximity and log_price"
   ]
  },
  {
   "cell_type": "markdown",
   "id": "26480fb5",
   "metadata": {},
   "source": [
    "In this regression, i want to explore the relationships between the housing prices when it is closer to inland and not closer to inland. Not closer to inland simply means closer to ocean, or 1 hour less than ocean."
   ]
  },
  {
   "cell_type": "markdown",
   "id": "c69b5893",
   "metadata": {},
   "source": [
    "In this situation, since ocean_proximity is a categorical variable, thus i have make use of dummy variable. "
   ]
  },
  {
   "cell_type": "code",
   "execution_count": null,
   "id": "fb47a5ed",
   "metadata": {},
   "outputs": [],
   "source": [
    "dfregocean = df.loc[(df['ocean_proximity'] == '<1H OCEAN') | (df['ocean_proximity'] =='INLAND')]"
   ]
  },
  {
   "cell_type": "code",
   "execution_count": null,
   "id": "abc7e91f",
   "metadata": {},
   "outputs": [],
   "source": [
    "X = dfregocean[['ocean_proximity']]\n",
    "X = pd.get_dummies(data=X, drop_first=True)\n",
    "#Y = np.log(dfregocean['median_house_value'])\n",
    "dfregocean[\"log_price\"] = Y\n"
   ]
  },
  {
   "cell_type": "code",
   "execution_count": null,
   "id": "27eea603",
   "metadata": {},
   "outputs": [],
   "source": [
    "from sklearn.model_selection import train_test_split\n",
    "X_train, X_test, Y_train, Y_test = train_test_split(X, Y, test_size=0.4, random_state=101)\n",
    "\n",
    "from sklearn.linear_model import LinearRegression\n",
    "model1 = LinearRegression()\n",
    "model1.fit(X_train,Y_train)"
   ]
  },
  {
   "cell_type": "code",
   "execution_count": null,
   "id": "25dd78a3",
   "metadata": {},
   "outputs": [],
   "source": [
    "predictions = model.predict(X_test)"
   ]
  },
  {
   "cell_type": "markdown",
   "id": "7b338e9c",
   "metadata": {},
   "source": [
    "We can write our model as\n",
    "\n",
    "$$\n",
    "{logPrice}_i = \\beta_0 + \\beta_1 {ocean_proximity}_i + u_i\n",
    "$$\n",
    "\n",
    "where:\n",
    "\n",
    "- $ \\beta_0 $ is the intercept of the linear trend line on the\n",
    "  y-axis  \n",
    "- $ \\beta_1 $ is the slope of the linear trend line, representing\n",
    "  the *marginal effect* of ocean_proximity INLAND on log housing prices  \n",
    "- $ u_i $ is a random error term (deviations of observations from\n",
    "  the linear trend due to factors not included in the model)"
   ]
  },
  {
   "cell_type": "code",
   "execution_count": null,
   "id": "31e89c03",
   "metadata": {},
   "outputs": [],
   "source": [
    "import statsmodels.api as sm\n",
    "X_train_Sm= sm.add_constant(X_train)\n",
    "X_train_Sm= sm.add_constant(X_train)\n",
    "ls=sm.OLS(Y_train,X_train_Sm).fit()\n",
    "print(ls.summary())"
   ]
  },
  {
   "cell_type": "markdown",
   "id": "04b4b7c3",
   "metadata": {},
   "source": [
    "From our results, we see that\n",
    "\n",
    "- ocean_proximity_INLAND is the dummy variable, where 1 represents the house is located in inland, and 0 represents the house is located not in inland.\n",
    "- The intercept $ \\hat{\\beta}_0 = 12.2974 $.  It means when all other vairbales equal to 0, the log housing price is 12.2974 US dollars\n",
    "- The slope $ \\hat{\\beta}_1 = -0.6899 $.  This is the estimated coefficient of the ocean_proximity. The coefficent of the dummmy variable is -0.6899, it represents the median housing prices in inland were about 69% lower, compared with the median housing prices not in inland.\n",
    "- The negative $ \\hat{\\beta}_1 $ parameter estimate implies that.\n",
    "  The closer houses to inland, it anticipates decrease in log housing prices.  \n",
    "- The p-value of 0.000 for $ \\hat{\\beta}_1 $ implies that the\n",
    "  effect of ocean_proximity is statistically significant (using p <\n",
    "  0.05 as a rejection rule).  \n",
    "- The R-squared value of 0.360 indicates that around 36% of variation\n",
    "  in log_price is explained by ocean_proximity  \n",
    "\n",
    "\n",
    "Using our parameter estimates, we can now write our estimated\n",
    "relationship as\n",
    "\n",
    "$$\n",
    "\\widehat{logPrice}_i = 12.2974 -0.6899 \\ {ocean_proximityINLAND}_i\n",
    "$$\n",
    "\n",
    "\n",
    "The ocean_proximity variable is significant for the model since the p-value is less than 0.05. However, the model has disadvantages, the model does not describe the true value accurately, since the R is only 0.360. There are only 36% of the data are explained by the model.\n"
   ]
  },
  {
   "cell_type": "markdown",
   "id": "18a4ba78",
   "metadata": {},
   "source": [
    "### Running multiple regressions model all together and compare which is better"
   ]
  },
  {
   "cell_type": "code",
   "execution_count": null,
   "id": "d93989d0",
   "metadata": {},
   "outputs": [],
   "source": [
    "df27['const'] = 1\n",
    "\n",
    "# Create lists of variables to be used in each regression\n",
    "X1 = ['const', 'median_income']\n",
    "X2 = ['const', 'median_income', 'startups']\n",
    "X3 = ['const', 'median_income', 'startups','population']\n",
    "X4 = ['const', 'median_income', 'startups', 'GrowthRate','population']\n",
    "\n",
    "# Estimate an OLS regression for each set of variables\n",
    "reg11 = sm.OLS(df27['median_house_value'], df27[X1], missing='drop').fit()\n",
    "reg22 = sm.OLS(df27['median_house_value'], df27[X2], missing='drop').fit()\n",
    "reg33 = sm.OLS(df27['median_house_value'], df27[X3], missing='drop').fit()\n",
    "reg44 = sm.OLS(df27['median_house_value'], df27[X3], missing='drop').fit()"
   ]
  },
  {
   "cell_type": "code",
   "execution_count": null,
   "id": "2d723355",
   "metadata": {},
   "outputs": [],
   "source": [
    "from statsmodels.iolib.summary2 import summary_col\n",
    "info_dict={'R-squared' : lambda x: f\"{x.rsquared:.2f}\", \n",
    "           'No. observations' : lambda x: f\"{int(x.nobs):d}\"}"
   ]
  },
  {
   "cell_type": "code",
   "execution_count": null,
   "id": "8defa78b",
   "metadata": {
    "scrolled": true
   },
   "outputs": [],
   "source": [
    "results_table44 = summary_col(results=[reg11,reg22,reg33,reg44],\n",
    "                            float_format='%0.2f',\n",
    "                            stars = True,\n",
    "                            model_names=['Model 1',\n",
    "                                         'Model 2',\n",
    "                                         'Model 3',\n",
    "                                         'Model 4'],\n",
    "                            info_dict=info_dict,\n",
    "                            regressor_order=['const',\n",
    "                                             'median_income',\n",
    "                                             'startups',\n",
    "                                             'population',\n",
    "                                             'GrowthRate'])\n",
    "\n",
    "#results_table.add_title('Table 2 - OLS Regressions')\n",
    "\n",
    "print(results_table44)"
   ]
  },
  {
   "cell_type": "markdown",
   "id": "6b01ca11",
   "metadata": {},
   "source": [
    "This shows model 4 is better above all, since the R square is the high, there are 85% of the data are captured by the model, and it can explain multivariate models at once."
   ]
  },
  {
   "cell_type": "markdown",
   "id": "2267c489",
   "metadata": {},
   "source": [
    "### Regression 4: multivariate regression: log_price, median_income, logstups, population and GrowthRate"
   ]
  },
  {
   "cell_type": "markdown",
   "id": "7ee8e5e7",
   "metadata": {},
   "source": [
    "We can write our model as\n",
    "\n",
    "$$\n",
    "{logPrice}_i = \\beta_0 + \\beta_1 {medianIncome}_i + \\beta_2 {logstups}_i+ \\beta_3 {population}_i+\\beta_4 {GrowthRate}_i+ u_i\n",
    "$$\n",
    "\n",
    "where:\n",
    "\n",
    "- $ \\beta_0 $ is the intercept of the linear trend line on the\n",
    "  y-axis  \n",
    "- $ \\beta_1 $ is the slope of the linear trend line, representing\n",
    "  the *marginal effect* of median Income on log housing prices  \n",
    "- $ \\beta_2 $ is the slope of the linear trend line, representing\n",
    "  the *marginal effect* of logstups on log housing prices\n",
    "- $ \\beta_3 $ is the slope of the linear trend line, representing\n",
    "  the *marginal effect* of population on log housing prices\n",
    "- $ \\beta_4 $ is the slope of the linear trend line, representing\n",
    "  the *marginal effect* of population growth rate on log housing prices\n",
    "- $ u_i $ is a random error term (deviations of observations from\n",
    "\n",
    "  the linear trend due to factors not included in the model)"
   ]
  },
  {
   "cell_type": "code",
   "execution_count": null,
   "id": "2466ba41",
   "metadata": {
    "scrolled": false
   },
   "outputs": [],
   "source": [
    "log_startups = np.log(df27_subset['startups'])\n",
    "df27_subset[\"logstups\"] = log_startups\n",
    "reg5 = sm.OLS(endog=df27_subset['log_price'], exog=df27_subset[['const', 'median_income', 'logstups','population', 'GrowthRate']],missing='drop')\n",
    "results5 = reg5.fit()\n",
    "type(results5)\n",
    "print(results5.summary())"
   ]
  },
  {
   "cell_type": "markdown",
   "id": "9d8aaeaf",
   "metadata": {},
   "source": [
    "From our results, we see that\n",
    "\n",
    "- The intercept $ \\hat{\\beta}_0 = 11.2975 $.  It means when all other vairbales equal to 0, the log housing price is 11.2975 US dollars\n",
    "- The slope $ \\hat{\\beta}_1 = 0.2362 $.  This is the estimated coefficient of the median_income. The coefficent of the variable is 0.2362, when holding other vairables constant, this indicate that a one more unit increase in the median income will increase the median housing prices by 23.62 percent.\n",
    "- The slope $ \\hat{\\beta}_2 = 0.1009 $.  This is the estimated coefficient of the log of the number of startups. The coefficent of the variable is 0.1009, when holding other vairables constant,this indicate that a one more unit increase in the median income will increase the median housing prices by 10.09 percent.\n",
    "- The slope $ \\hat{\\beta}_3 = -0.0002 $.  This is the estimated coefficient of the population. The coefficent of the  variable is -0.0002, this indicate that a one more unit increase in the population will decrease the median housing prices by 0.02 percent.\n",
    "- The slope $ \\hat{\\beta}_4 = -0.0134 $.  This is the estimated coefficient of the population growth rate. The coefficent of the variable is -0.0134, when holding other vairables constant,this indicate that a one more unit increase in the population growth rate will decrease the median housing prices by 1.34 percent.\n",
    "- The p-value of 0.000 for $ \\hat{\\beta}_1 $ implies that the\n",
    "  effect of median income is statistically significant (using p <\n",
    "  0.05 as a rejection rule).  \n",
    "- The p-value of 0.000 for $ \\hat{\\beta}_2 $ implies that the\n",
    "  effect of logstups is statistically significant (using p <\n",
    "  0.05 as a rejection rule).\n",
    "- The p-value of 0.123 for $ \\hat{\\beta}_3 $ implies that the\n",
    "  effect of population is not statistically significant (using p <\n",
    "  0.05 as a rejection rule).\n",
    "- The p-value of 0.183 for $ \\hat{\\beta}_4 $ implies that the\n",
    "  effect of GrowthRate is not statistically significant (using p <\n",
    "  0.05 as a rejection rule).\n",
    "- The R-squared value of 0.686 indicates that around 68.6% of variation\n",
    "  in log_price is explained by medianIncome, logstups, Population and growthRate  \n",
    "\n",
    "\n",
    "Using our parameter estimates, we can now write our estimated\n",
    "relationship as\n",
    "\n",
    "$$\n",
    "\\widehat{logPrice}_i = 11.2975 +0.2362 \\ {MedianIncome}_i+0.1009 \\ {logstups}_i-0.0002 \\ {population}_i-0.0134 \\ {GrowthRate}_i\n",
    "$$\n",
    "\n",
    "\n",
    "The population and growthrate variable are not significant for the model since the p-value is higher than 0.05. So i fail reject the null hypothesis. Besides, the model has some improvement compared with linear simple regression, the model does not describe the true value very accurately, since the R is 68.6. There are only 68.6% of the data are explained by the model. Which is better than previous models."
   ]
  },
  {
   "cell_type": "markdown",
   "id": "1bda20c1",
   "metadata": {},
   "source": [
    "### Regression 5: IV regression"
   ]
  },
  {
   "cell_type": "markdown",
   "id": "6add6a85",
   "metadata": {},
   "source": [
    "## Endogeneity\n",
    "\n",
    "As AJR (2001) paper discusses, the OLS models likely suffer from\n",
    "**endogeneity** issues, resulting in biased and inconsistent model\n",
    "estimates.\n",
    "\n",
    "Namely, there isn't likely a two-way relationship between the number of startups and housing prices:\n",
    "\n",
    "With reference on Lakshmi Balasubramanyan and Edward Coulson's paper:\n",
    "- Housing prices were high in metropolitans in California in 1990.\n",
    "- There were more number of startups in those metropolitan areas later at the beginning of 21th century.\n",
    "- There is no relation between the number of startups and log housing prices.\n",
    "- In the second model of simple linear regression, we found the coefficient is only 0.0002, and we observe that there no relations.\n",
    "\n",
    "\n",
    "To deal with endogeneity, we can use **two-stage least squares (2SLS)\n",
    "regression**, which is an extension of OLS regression.\n",
    "\n",
    "This method requires replacing the endogenous variable\n",
    "$ {medianIncome}_i $ with a variable that is:\n",
    "\n",
    "1. correlated with $ {MedianIncome}_i $  \n",
    "1. not correlated with the error term (ie. it should not directly affect\n",
    "  the dependent variable, otherwise it would be correlated with\n",
    "  $ u_i $ due to omitted variable bias)  \n",
    "\n",
    "\n",
    "The new set of regressors is called an **instrument**, which aims to\n",
    "remove endogeneity in our proxy of institutional differences."
   ]
  },
  {
   "cell_type": "markdown",
   "id": "8ca6d9fa",
   "metadata": {},
   "source": [
    "I include a model which runs the log_price and median_income before doing IV regression, so that in the later part we can compare the second stage of IV regression and the one before IV regression."
   ]
  },
  {
   "cell_type": "code",
   "execution_count": null,
   "id": "a25a24ae",
   "metadata": {
    "scrolled": false
   },
   "outputs": [],
   "source": [
    "\n",
    "reg_beforeiv = sm.OLS(endog=df27_subset['log_price'], exog=df27_subset[['const','median_income']],missing='drop')\n",
    "results_beforeiv = reg_beforeiv.fit()\n",
    "type(results_beforeiv)\n",
    "print(results_beforeiv.summary())"
   ]
  },
  {
   "cell_type": "markdown",
   "id": "c0af2e71",
   "metadata": {},
   "source": [
    "The coefficient is 0.2883, p-value is 0.000, R-squared is 0.395"
   ]
  },
  {
   "cell_type": "markdown",
   "id": "7412f5cc",
   "metadata": {},
   "source": []
  },
  {
   "cell_type": "code",
   "execution_count": null,
   "id": "da063058",
   "metadata": {},
   "outputs": [],
   "source": [
    "Xiv = np.log(df27_subset['startups'])\n",
    "yiv = (df27_subset['median_income'])\n",
    "labels = df27_subset['NAME']\n",
    "\n",
    "# Replace markers with country labels\n",
    "fig, ax = plt.subplots()\n",
    "ax.scatter(Xiv, yiv, marker='')\n",
    "\n",
    "for i, label in enumerate(labels):\n",
    "    ax.annotate(label, (Xiv.iloc[i], yiv.iloc[i]))\n",
    "\n",
    "# Fit a linear trend line\n",
    "ax.plot(np.unique(Xiv),\n",
    "         np.poly1d(np.polyfit(Xiv, yiv, 1))(np.unique(Xiv)),\n",
    "         color='black')\n",
    "\n",
    "ax.set_xlim([0,10])\n",
    "ax.set_ylim([0,8])\n",
    "ax.set_xlabel('Log number of startups')\n",
    "ax.set_ylabel('Median income of households')\n",
    "ax.set_title('Figure 3: First-stage relationship between the log number of startups and income levels')\n",
    "plt.show()"
   ]
  },
  {
   "cell_type": "markdown",
   "id": "766c8122",
   "metadata": {},
   "source": [
    "The second condition may not be satisfied if settler number of startups in California have a direct effect on the housing prices.\n",
    "\n",
    "For example, with higher number of startups in the regions, the housing prices are directly high because of that\n",
    "\n",
    "From the second model this is unlikely because:\n",
    "\n",
    "- There are no positive relations between the housing prices and number of startups\n",
    "- The higher housing prices is not the product of higher number of starups, the medium has to be something.\n",
    "\n",
    "\n",
    "As we appear to have a valid instrument, we can use 2SLS regression to\n",
    "obtain consistent and unbiased parameter estimates.\n",
    "\n",
    "**First stage**\n",
    "\n",
    "The first stage involves regressing the endogenous variable\n",
    "($ {medianIncome}_i $) on the instrument.\n",
    "\n",
    "The instrument is the set of all exogenous variables in our model (and\n",
    "not just the variable we have replaced).\n",
    "\n",
    "Using model 1 as an example, our instrument is simply a constant and\n",
    "settler mortality rates $ {logstups}_i $.\n",
    "\n",
    "Therefore, we will estimate the first-stage regression as\n",
    "\n",
    "$$\n",
    "{median_income}_i = \\delta_0 + \\delta_1 {logstups}_i + v_i\n",
    "$$\n"
   ]
  },
  {
   "cell_type": "code",
   "execution_count": null,
   "id": "cd69aeab",
   "metadata": {},
   "outputs": [],
   "source": [
    "log_startups = np.log(df27_subset['startups'])\n",
    "df27_subset[\"logstups\"] = log_startups\n",
    "\n",
    "results_iv = sm.OLS(df27_subset['median_income'],\n",
    "                    df27_subset[['const', 'logstups']],\n",
    "                    missing='drop').fit()\n",
    "print(results_iv.summary())"
   ]
  },
  {
   "cell_type": "markdown",
   "id": "27cbfb14",
   "metadata": {},
   "source": [
    "- The slope $ \\hat{\\beta}_1 = 0.1810 $.  This is the estimated coefficient of the log of the number of startups. The coefficent of the variable is 0.1810, when holding other vairables constant,It represents 1 percentage change in startups in the region, will result 0.18 change the amount of median income that households received in tens thousands dollars.\n",
    "- The p-value of 0.027 for $ \\hat{\\beta}_4 $ implies that the\n",
    "  logstups is  statistically significant (using p <\n",
    "  0.05 as a rejection rule).\n",
    "- The R-squared value of 0.157 indicates that around 68.6% of variation\n",
    "  in median income is explained by logstups.  "
   ]
  },
  {
   "cell_type": "markdown",
   "id": "9d415fe7",
   "metadata": {},
   "source": [
    "**Second stage**\n",
    "\n",
    "We need to retrieve the predicted values of $ {medianincome}_i $ using\n",
    "`.predict()`.\n",
    "\n",
    "We then replace the endogenous variable $ {medianincome}_i $ with the\n",
    "predicted values $ \\widehat{medianincome}_i $ in the original linear model.\n",
    "\n",
    "Our second stage regression is thus\n",
    "\n",
    "$$\n",
    "{logprice}_i = \\beta_0 + \\beta_1 \\widehat{medianincome}_i + u_i\n",
    "$$"
   ]
  },
  {
   "cell_type": "code",
   "execution_count": null,
   "id": "d8ebb95e",
   "metadata": {},
   "outputs": [],
   "source": [
    "df27_subset['predicted_median_income'] = results_iv.predict()\n",
    "\n",
    "results_ivv = sm.OLS(df27_subset['log_price'],\n",
    "                    df27_subset[['const', 'predicted_median_income']]).fit()\n",
    "print(results_ivv.summary())"
   ]
  },
  {
   "cell_type": "markdown",
   "id": "425b88cc",
   "metadata": {},
   "source": [
    "- The slope $ \\hat{\\beta}_1 = 0.7940 $.  This is the estimated coefficient of the predicted median incomes. The coefficent of the variable is 0.7940,when holding other vairables constant, It represents one more unit increase in predicted median income will increase the median housing prices by 79.4%.\n",
    "- The p-value of 0.000 for $ \\hat{\\beta}_4 $ implies that the\n",
    "  predicted_median_income is  statistically significant (using p <\n",
    "  0.05 as a rejection rule).\n",
    "- The R-squared value of 0.472 indicates that around 47.2% of variation\n",
    "  in log housing prices is explained by predicted median income.  "
   ]
  },
  {
   "cell_type": "markdown",
   "id": "035dacf4",
   "metadata": {},
   "source": [
    "The second-stage regression results give us an unbiased and consistent\n",
    "estimate of the effect of institutions on economic outcomes.\n",
    "\n",
    "The result suggests a stronger positive relationship than what the OLS\n",
    "results indicated.\n",
    "\n",
    "Note that while our parameter estimates are correct, our standard errors\n",
    "are not and for this reason"
   ]
  },
  {
   "cell_type": "code",
   "execution_count": null,
   "id": "98265372",
   "metadata": {},
   "outputs": [],
   "source": [
    "iv = IV2SLS(dependent=df27_subset['log_price'],\n",
    "            exog=df27_subset['const'],\n",
    "            endog=df27_subset['median_income'],\n",
    "            instruments=df27_subset['logstups']).fit(cov_type='unadjusted')\n",
    "\n",
    "print(iv.summary)"
   ]
  },
  {
   "cell_type": "markdown",
   "id": "39f6931d",
   "metadata": {},
   "source": [
    "- With the IV regression, i am able to conclude two main causations. First one is more number of startups make higher income levels in the regions. The second one is, with higher income levels, households can purchase more expensive shelters.\n",
    "- This is consistent with our economic intuitions previously. From the paper discussed above, we found the regions with more number of startups tend to be more population-densed, income levels and housing prices at these regions are the highest compared with other areas. \n",
    "- Those regions in the California are San Diego, Los Angeles, Orange, Santa Barbara, Santa Clara, San Mateo, Alameda, San Francisco. That's the reason why people call these areas the metropolitan."
   ]
  },
  {
   "cell_type": "markdown",
   "id": "e619a782",
   "metadata": {},
   "source": [
    "### Machine Learing"
   ]
  },
  {
   "cell_type": "markdown",
   "id": "6139b961",
   "metadata": {},
   "source": [
    "- For each region, solve  \n",
    "\n",
    "\n",
    "$$\n",
    "\\min_{j,s} \\left[  \\sum_{i: x_{i,j} \\leq s, x_i \\in R1}\n",
    "    (y_i - \\hat{y}_{R1})^2 +  \\sum_{i: x_{i,j} > s, x_i \\in R2}\n",
    "    (y_i - \\hat{y}_{R2})^2 \\right]\n",
    "$$\n",
    "\n",
    "- Repeat with each of the two smaller rectangles.  \n",
    "- Stop when $ |R| = $ some chosen minimum size or when depth of tree $ = $\n",
    "  some chosen maximum.  \n",
    "- Prune tree.  \n",
    "\n",
    "\n",
    "$$\n",
    "\\min_{tree \\subset T} \\sum (\\hat{f}(x)-y)^2 + \\alpha|\\text{terminal\n",
    "   nodes in tree}|\n",
    "$$"
   ]
  },
  {
   "cell_type": "code",
   "execution_count": null,
   "id": "0454a34b",
   "metadata": {},
   "outputs": [],
   "source": [
    "df_ml= df.dropna()\n",
    "X_ml = df_ml.drop([\"ocean_proximity\"], axis=1).copy()\n",
    "y_ml = df_ml[\"log_price\"] \n",
    "# convert everything to be a float for later on\n",
    "for col in list(X_ml):\n",
    "    X_ml[col] = X_ml[col].astype(float)"
   ]
  },
  {
   "cell_type": "code",
   "execution_count": null,
   "id": "0cf59d4f",
   "metadata": {},
   "outputs": [],
   "source": [
    "from sklearn import tree\n",
    "sqft_tree = tree.DecisionTreeRegressor(max_depth=3).fit(X_ml,y_ml)"
   ]
  },
  {
   "cell_type": "code",
   "execution_count": null,
   "id": "e8301ebe",
   "metadata": {},
   "outputs": [],
   "source": [
    "# use the fitted tree to predict\n",
    "y_pred_tree = sqft_tree.predict(X_ml)\n",
    "\n",
    "# find the error of prediction (MSE)\n",
    "from sklearn import metrics\n",
    "print('Mean Squared Error:', metrics.mean_squared_error(y_ml, y_pred_tree))"
   ]
  },
  {
   "cell_type": "code",
   "execution_count": null,
   "id": "b131ab92",
   "metadata": {},
   "outputs": [],
   "source": [
    "sqrf_fig = plt.figure(figsize=(20,15))\n",
    "sqrf_fig = tree.plot_tree(sqft_tree, feature_names=X_ml.columns, filled=True,fontsize=15)"
   ]
  },
  {
   "cell_type": "markdown",
   "id": "03d82fb6",
   "metadata": {},
   "source": [
    "## Conclusion"
   ]
  },
  {
   "cell_type": "markdown",
   "id": "7c43770c",
   "metadata": {},
   "source": [
    "### In this report, i mainly explained the relationship between housing features, incomes of households and housing values."
   ]
  },
  {
   "cell_type": "markdown",
   "id": "97a44cda",
   "metadata": {},
   "source": [
    " More specifically, i divided houseing features into: <span style='color:blue'>Housing ages, Housing capacity and Location away from the ocean </span>, where i define housing capacity as how many rooms were there per house within a block."
   ]
  },
  {
   "cell_type": "markdown",
   "id": "ec639584",
   "metadata": {},
   "source": [
    "#### Findings for links between housing features and housing prices:"
   ]
  },
  {
   "cell_type": "markdown",
   "id": "7071e02f",
   "metadata": {},
   "source": [
    "- <span style='color:blue'> Housing prices were the highest on island, and lowest on inland. Starting from inland areas, it got more expensive when near the ocean.</span>\n",
    "- Although the housing capacity got lower when it got closer to the ocean, the values of the houses were expensive, 12.88% of households decided to live near the ocean.\n",
    "- Almost half of the households in California lived 1 hour less than the ocean. For households who lived there, their average incomes were the highest compared with other regions(island, inland), and they spent the second lowest money on purchasing the houses."
   ]
  },
  {
   "cell_type": "markdown",
   "id": "886a64ea",
   "metadata": {},
   "source": [
    "- <span style='color:blue'> Other housing features: housing ages, housing capacity, did not have large influences on housing prices</span>\n",
    "- Housing prices varied when average capacity and housing ages varied."
   ]
  },
  {
   "cell_type": "markdown",
   "id": "7e9b9eac",
   "metadata": {},
   "source": [
    "The main finding of the paper is: With the geographical and historical advantages, some areas are the key observations for the investors. Investor made investments and new businesses in those areas, they hire more labor and spend more money on building the business and factories. With better investment and job opportunities, highly-educated people are attracted into these regions. Besides, other companies come in, and population gets higher. Meanwhile, housing markets seize the opportunities, they attract more households by spending more money on building comfortable and desirable shelters. Eventually, the business market and housing markets run into monopolistic competitions, where they need to compete and continue to improve their attractions for investors and works. Housing prices are the result of this competition and transformation. So housing prices are not only determined by income levels and various housing characteristics, but also determined by the number of startups indirectly."
   ]
  },
  {
   "cell_type": "markdown",
   "id": "33b0a6ee",
   "metadata": {},
   "source": [
    "#### Next steps and future thoughts:"
   ]
  },
  {
   "cell_type": "markdown",
   "id": "e7123e61",
   "metadata": {},
   "source": [
    "- The housing prices and income levels are high in urban areas like Los Angeles, and by taking all the factors into considerations, i found the most crucial factor to affect and anticipate the housing prices is the income levels.\n",
    "- To explain, people with higher income levels will no longer take other housing features into considerations, they do not care about the size of the house or how crowded it is near their areas, they focus more about how comfortable and urban they live in.\n",
    "- Besides, since the world is improving, people can get higher wages and live in a better lifestyles, the productivities and technology improvement are very high and advanced. With this in mind, People have more disposable incomes to consume, they have higher demand and expectations to buy more expensive houses. Therefore, i conclude that income levels is the most important indicator for changes in housing prices, and economists can pay more attention about the changes in income levels to anticipate the changes in housing prices.\n",
    "- In the future, i think i can also take considerations about the inflation, and GDP in each counties. Since with higher income levels, the inflation rate and GDP would definitely increase, then i see whether there are relations between the inflation rate and housing prices, as well as interest rate and housing prices."
   ]
  },
  {
   "cell_type": "markdown",
   "id": "07d72564",
   "metadata": {},
   "source": [
    "### To conclude, this report revealed the most important factor to anticipate the housing prices: Income levels. It also provided discoveries about housing features, income levels and housing prices in California in 1990, although the data was long ago from us, the findings in this report provide information for expecting housing values nowadays. What’s more, with references to literature review and external datasets about startups, several causations have been made in this paper. With various map visualizations and comparisons, the intuitive relationships have been made. After that, the paper uses the regression model to further prove the relationships with high confidences. Housing prices are not only determined by income levels and various housing characteristics, but also determined by other economic factors, like the number of startups and inflation rate indirectly."
   ]
  },
  {
   "cell_type": "markdown",
   "id": "493694d6",
   "metadata": {},
   "source": [
    "### Citations:"
   ]
  },
  {
   "cell_type": "markdown",
   "id": "c7278729",
   "metadata": {},
   "source": [
    "- Nugent, C. (2018, January 15). California Cities Dataset. Kaggle. Retrieved March 4, 2022, from https://www.kaggle.com/camnugent/california-housing-feature-engineering?select=cal_populations_county.csv \n",
    "- US census's website. Index of /Geo/Tiger/TIGER2019. (n.d.). Retrieved March 4, 2022, from https://www2.census.gov/geo/tiger/TIGER2019/ \n",
    "- Balasubramanyan, Lakshmi & Coulson, N.. (2013). Do house prices impact business starts?. Journal of Housing Economics. 22. 36–44. 10.1016/j.jhe.2013.01.001. \n",
    "- Population of counties in California (2022). (n.d.). Retrieved April 16, 2022, from https://worldpopulationreview.com/us-counties/states/ca \n",
    "- Cirtautas, J. (2019, December 2). Startup investments. Kaggle. Retrieved April 16, 2022, from https://www.kaggle.com/datasets/justinas/startup-investments \n",
    "- Collins, G. (2022, February 22). California Housing Market Report &amp; Predictions. ManageCasa. Retrieved April 16, 2022, from https://managecasa.com/articles/california-housing-market-report/ \n",
    "- SOCR data 021708 earthquakes. Socr RSS. (n.d.). Retrieved April 16, 2022, from http://wiki.stat.ucla.edu/socr/index.php/SOCR_Data_021708_Earthquakes \n",
    "- \tvan Doorn, L., Arnold, A., Rapoport, E. (2019). In the Age of Cities: The Impact of Urbanisation on House Prices and Affordability. In: Nijskens, R., Lohuis, M., Hilbers, P., Heeringa, W. (eds) Hot Property. Springer, Cham. \n",
    "- \tPicker, L. (2006). How do house prices affect consumption? NBER. Retrieved April 16, 2022, from https://www.nber.org/digest/feb06/how-do-house-prices-affect-consumption\n",
    "- \tPettinger, T., & Robinson, E. (2021, September 10). How the housing market affects the economy. Economics Help. Retrieved April 16, 2022, from https://www.economicshelp.org/blog/21636/housing/how-the-housing-market-affects-the-economy/\n"
   ]
  },
  {
   "cell_type": "code",
   "execution_count": null,
   "id": "3cb0e423",
   "metadata": {},
   "outputs": [],
   "source": []
  }
 ],
 "metadata": {
  "kernelspec": {
   "display_name": "Python 3 (ipykernel)",
   "language": "python",
   "name": "python3"
  },
  "language_info": {
   "codemirror_mode": {
    "name": "ipython",
    "version": 3
   },
   "file_extension": ".py",
   "mimetype": "text/x-python",
   "name": "python",
   "nbconvert_exporter": "python",
   "pygments_lexer": "ipython3",
   "version": "3.10.8"
  }
 },
 "nbformat": 4,
 "nbformat_minor": 5
}
